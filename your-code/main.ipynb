{
 "cells": [
  {
   "cell_type": "markdown",
   "metadata": {},
   "source": [
    "# Web Scraping Lab\n",
    "\n",
    "You will find in this notebook some scrapy exercises to practise your scraping skills.\n",
    "\n",
    "**Tips:**\n",
    "\n",
    "- Check the response status code for each request to ensure you have obtained the intended contennt.\n",
    "- Print the response text in each request to understand the kind of info you are getting and its format.\n",
    "- Check for patterns in the response text to extract the data/info requested in each question.\n",
    "- Visit each url and take a look at its source through Chrome DevTools. You'll need to identify the html tags, special class names etc. used for the html content you are expected to extract."
   ]
  },
  {
   "cell_type": "markdown",
   "metadata": {},
   "source": [
    "- [Requests library](http://docs.python-requests.org/en/master/#the-user-guide) documentation \n",
    "- [Beautiful Soup Doc](https://www.crummy.com/software/BeautifulSoup/bs4/doc/)\n",
    "- [Urllib](https://docs.python.org/3/library/urllib.html#module-urllib)\n",
    "- [re lib](https://docs.python.org/3/library/re.html)\n",
    "- [lxml lib](https://lxml.de/)\n",
    "- [Scrapy](https://scrapy.org/)\n",
    "- [List of HTTP status codes](https://en.wikipedia.org/wiki/List_of_HTTP_status_codes)\n",
    "- [HTML basics](http://www.simplehtmlguide.com/cheatsheet.php)\n",
    "- [CSS basics](https://www.cssbasics.com/#page_start)"
   ]
  },
  {
   "cell_type": "markdown",
   "metadata": {},
   "source": [
    "#### Below are the libraries and modules you may need. `requests`,  `BeautifulSoup` and `pandas` are imported for you. If you prefer to use additional libraries feel free to uncomment them."
   ]
  },
  {
   "cell_type": "code",
   "execution_count": 3,
   "metadata": {},
   "outputs": [
    {
     "name": "stdout",
     "output_type": "stream",
     "text": [
      "Requirement already satisfied: selenium in c:\\users\\ffrei\\appdata\\local\\programs\\python\\python39\\lib\\site-packages (3.141.0)\n",
      "Requirement already satisfied: urllib3 in c:\\users\\ffrei\\appdata\\local\\programs\\python\\python39\\lib\\site-packages (from selenium) (1.26.4)\n"
     ]
    },
    {
     "name": "stderr",
     "output_type": "stream",
     "text": [
      "WARNING: You are using pip version 21.0.1; however, version 21.1.1 is available.\n",
      "You should consider upgrading via the 'c:\\users\\ffrei\\appdata\\local\\programs\\python\\python39\\python.exe -m pip install --upgrade pip' command.\n"
     ]
    }
   ],
   "source": [
    "!pip install selenium"
   ]
  },
  {
   "cell_type": "code",
   "execution_count": 4,
   "metadata": {},
   "outputs": [],
   "source": [
    "from selenium import webdriver\n",
    "import requests\n",
    "import pandas as pd\n",
    "# from pprint import pprint\n",
    "# from lxml import html\n",
    "# from lxml.html import fromstring\n",
    "# import urllib.request\n",
    "# from urllib.request import urlopen\n",
    "# import random\n",
    "# import re\n",
    "# import scrapy"
   ]
  },
  {
   "cell_type": "code",
   "execution_count": 5,
   "metadata": {},
   "outputs": [],
   "source": [
    "PATH='chromedriver.exe'"
   ]
  },
  {
   "cell_type": "markdown",
   "metadata": {},
   "source": [
    "#### Print the content from the Trending Developers page from GitHub:"
   ]
  },
  {
   "cell_type": "markdown",
   "metadata": {},
   "source": [
    "#### Display the names of the trending developers retrieved in the previous step.\n",
    "\n",
    "Your output should be a Python list of developer names. Each name should not contain any html tag.\n",
    "\n",
    "**Instructions:**\n",
    "\n",
    "1. Find out the html tag and class names used for the developer names. You can achieve this using Chrome DevTools.\n",
    "\n",
    "1. Use BeautifulSoup to extract all the html elements that contain the developer names.\n",
    "\n",
    "1. Use string manipulation techniques to replace whitespaces and linebreaks (i.e. `\\n`) in the *text* of each html element. Use a list to store the clean names.\n",
    "\n",
    "1. Print the list of names.\n",
    "\n",
    "Your output should look like below:\n",
    "\n",
    "```\n",
    "['trimstray (@trimstray)',\n",
    " 'joewalnes (JoeWalnes)',\n",
    " 'charlax (Charles-AxelDein)',\n",
    " 'ForrestKnight (ForrestKnight)',\n",
    " 'revery-ui (revery-ui)',\n",
    " 'alibaba (Alibaba)',\n",
    " 'Microsoft (Microsoft)',\n",
    " 'github (GitHub)',\n",
    " 'facebook (Facebook)',\n",
    " 'boazsegev (Bo)',\n",
    " 'google (Google)',\n",
    " 'cloudfetch',\n",
    " 'sindresorhus (SindreSorhus)',\n",
    " 'tensorflow',\n",
    " 'apache (TheApacheSoftwareFoundation)',\n",
    " 'DevonCrawford (DevonCrawford)',\n",
    " 'ARMmbed (ArmMbed)',\n",
    " 'vuejs (vuejs)',\n",
    " 'fastai (fast.ai)',\n",
    " 'QiShaoXuan (Qi)',\n",
    " 'joelparkerhenderson (JoelParkerHenderson)',\n",
    " 'torvalds (LinusTorvalds)',\n",
    " 'CyC2018',\n",
    " 'komeiji-satori (神楽坂覚々)',\n",
    " 'script-8']\n",
    " ```"
   ]
  },
  {
   "cell_type": "code",
   "execution_count": null,
   "metadata": {},
   "outputs": [],
   "source": [
    "# This is the url you will scrape in this exercise\n",
    "url = 'https://github.com/trending/developers'"
   ]
  },
  {
   "cell_type": "code",
   "execution_count": null,
   "metadata": {},
   "outputs": [],
   "source": [
    "#your code\n",
    "\n",
    "driver=webdriver.Chrome(PATH)\n",
    "driver.get(url)"
   ]
  },
  {
   "cell_type": "code",
   "execution_count": null,
   "metadata": {},
   "outputs": [],
   "source": [
    "names = [a.text for a in driver.find_elements_by_class_name('h3.lh-condensed')]\n",
    "\n",
    "names"
   ]
  },
  {
   "cell_type": "code",
   "execution_count": null,
   "metadata": {},
   "outputs": [],
   "source": [
    "nicknames = [b.text for b in driver.find_elements_by_class_name('f4.text-normal.mb-1')]\n",
    "nicknames"
   ]
  },
  {
   "cell_type": "code",
   "execution_count": null,
   "metadata": {},
   "outputs": [],
   "source": [
    "res=[]\n",
    "\n",
    "for i in range(len(names)):\n",
    "    \n",
    "    element = names[i]+ ' (' + nicknames[i]+ ')'\n",
    "    res.append(element)\n",
    "print(res)"
   ]
  },
  {
   "cell_type": "markdown",
   "metadata": {},
   "source": [
    "#### Display the trending Python repositories in GitHub\n",
    "\n",
    "The steps to solve this problem is similar to the previous one except that you need to find out the repository names instead of developer names."
   ]
  },
  {
   "cell_type": "code",
   "execution_count": null,
   "metadata": {},
   "outputs": [],
   "source": [
    "# This is the url you will scrape in this exercise\n",
    "url = 'https://github.com/trending/python?since=daily'"
   ]
  },
  {
   "cell_type": "code",
   "execution_count": null,
   "metadata": {},
   "outputs": [],
   "source": [
    "#your code\n",
    "driver=webdriver.Chrome(PATH)\n",
    "driver.get(url)"
   ]
  },
  {
   "cell_type": "code",
   "execution_count": null,
   "metadata": {},
   "outputs": [],
   "source": [
    "repos = [c.text for c in driver.find_elements_by_class_name('h3.lh-condensed')]\n",
    "repos"
   ]
  },
  {
   "cell_type": "markdown",
   "metadata": {},
   "source": [
    "#### Display all the image links from Walt Disney wikipedia page"
   ]
  },
  {
   "cell_type": "code",
   "execution_count": null,
   "metadata": {},
   "outputs": [],
   "source": [
    "# This is the url you will scrape in this exercise\n",
    "url = 'https://en.wikipedia.org/wiki/Walt_Disney'"
   ]
  },
  {
   "cell_type": "code",
   "execution_count": null,
   "metadata": {},
   "outputs": [],
   "source": [
    "#your code\n",
    "driver=webdriver.Chrome(PATH)\n",
    "driver.get(url)"
   ]
  },
  {
   "cell_type": "code",
   "execution_count": null,
   "metadata": {},
   "outputs": [],
   "source": [
    "[a.get_attribute('src') for a in driver.find_elements_by_tag_name('img')]"
   ]
  },
  {
   "cell_type": "markdown",
   "metadata": {},
   "source": [
    "#### Retrieve an arbitary Wikipedia page of \"Python\" and create a list of links on that page"
   ]
  },
  {
   "cell_type": "code",
   "execution_count": null,
   "metadata": {},
   "outputs": [],
   "source": [
    "# This is the url you will scrape in this exercise\n",
    "url ='https://en.wikipedia.org/wiki/Python'"
   ]
  },
  {
   "cell_type": "code",
   "execution_count": null,
   "metadata": {},
   "outputs": [],
   "source": [
    "#your code\n",
    "driver=webdriver.Chrome(PATH)\n",
    "driver.get(url)"
   ]
  },
  {
   "cell_type": "code",
   "execution_count": null,
   "metadata": {},
   "outputs": [],
   "source": [
    "[a.get_attribute('href') for a in driver.find_elements_by_tag_name('a')]"
   ]
  },
  {
   "cell_type": "markdown",
   "metadata": {},
   "source": [
    "#### Number of Titles that have changed in the United States Code since its last release point "
   ]
  },
  {
   "cell_type": "code",
   "execution_count": null,
   "metadata": {},
   "outputs": [],
   "source": [
    "# This is the url you will scrape in this exercise\n",
    "url = 'http://uscode.house.gov/download/download.shtml'"
   ]
  },
  {
   "cell_type": "code",
   "execution_count": null,
   "metadata": {},
   "outputs": [],
   "source": [
    "#your code\n",
    "driver=webdriver.Chrome(PATH)\n",
    "driver.get(url)"
   ]
  },
  {
   "cell_type": "code",
   "execution_count": null,
   "metadata": {},
   "outputs": [],
   "source": [
    "ans=[a.text for a in driver.find_elements_by_class_name('usctitle')]\n",
    "\n",
    "ans[2:]"
   ]
  },
  {
   "cell_type": "markdown",
   "metadata": {},
   "source": [
    "#### A Python list with the top ten FBI's Most Wanted names "
   ]
  },
  {
   "cell_type": "code",
   "execution_count": null,
   "metadata": {},
   "outputs": [],
   "source": [
    "# This is the url you will scrape in this exercise\n",
    "url = 'https://www.fbi.gov/wanted/topten'"
   ]
  },
  {
   "cell_type": "code",
   "execution_count": null,
   "metadata": {},
   "outputs": [],
   "source": [
    "#your code \n",
    "driver=webdriver.Chrome(PATH)\n",
    "driver.get(url)"
   ]
  },
  {
   "cell_type": "code",
   "execution_count": null,
   "metadata": {},
   "outputs": [],
   "source": [
    "wanted=[a.text for a in driver.find_elements_by_class_name('title')]\n",
    "wanted[1:]"
   ]
  },
  {
   "cell_type": "markdown",
   "metadata": {},
   "source": [
    "####  20 latest earthquakes info (date, time, latitude, longitude and region name) by the EMSC as a pandas dataframe"
   ]
  },
  {
   "cell_type": "code",
   "execution_count": null,
   "metadata": {},
   "outputs": [],
   "source": [
    "# This is the url you will scrape in this exercise\n",
    "url = 'https://www.emsc-csem.org/Earthquake/'"
   ]
  },
  {
   "cell_type": "code",
   "execution_count": null,
   "metadata": {},
   "outputs": [],
   "source": [
    "#your code\n",
    "driver=webdriver.Chrome(PATH)\n",
    "driver.get(url)"
   ]
  },
  {
   "cell_type": "code",
   "execution_count": null,
   "metadata": {},
   "outputs": [],
   "source": [
    "import unidecode"
   ]
  },
  {
   "cell_type": "code",
   "execution_count": null,
   "metadata": {},
   "outputs": [],
   "source": [
    "h=[a.text for a in driver.find_elements_by_class_name('th2')]\n",
    "\n",
    "head= []\n",
    "\n",
    "for i in range(len(h)):\n",
    "    if i != 0:\n",
    "        txt = str(h[i]).replace('\\n','').replace('[+]','')\n",
    "        head.append(txt)\n",
    "\n",
    "columns=head[:-1]\n",
    "columns"
   ]
  },
  {
   "cell_type": "code",
   "execution_count": null,
   "metadata": {},
   "outputs": [],
   "source": [
    "table_rows=[a.text.replace('\\n','') for a in driver.find_elements_by_tag_name('tr')]  #tr -> tag name find elements by tag name tr\n",
    "table_rows\n",
    "\n",
    "records = []\n",
    "\n",
    "for e in table_rows:\n",
    "    if 'ago' in e:\n",
    "        records.append(e)\n",
    "\n",
    "print(records)       "
   ]
  },
  {
   "cell_type": "code",
   "execution_count": null,
   "metadata": {},
   "outputs": [],
   "source": [
    "aux = []\n",
    "for r in records:\n",
    "    txt= r.split('   ')\n",
    "    \n",
    "    aux.append(txt)\n",
    "\n",
    "aux[49][2]"
   ]
  },
  {
   "cell_type": "code",
   "execution_count": null,
   "metadata": {},
   "outputs": [],
   "source": [
    "dates = []\n",
    "latitudes = []\n",
    "longitudes = []\n",
    "blend=[]\n",
    "\n",
    "for i, d in enumerate(aux):\n",
    "    dates.append(aux[i][0])\n",
    "    latitudes.append(aux[i][1])\n",
    "    longitudes.append(aux[i][2])\n",
    "    blend.append(aux[i][3])\n",
    "\n",
    "blend"
   ]
  },
  {
   "cell_type": "code",
   "execution_count": null,
   "metadata": {},
   "outputs": [],
   "source": [
    "l=[]\n",
    "for k in blend:\n",
    "    a= k.split('  ')\n",
    "    l.append(a)\n",
    "\n",
    "country=[]\n",
    "blend2=[]\n",
    "for j, u in enumerate(l):\n",
    "    country.append(l[j][1])\n",
    "    blend2.append(l[j][0])\n",
    "\n",
    "country"
   ]
  },
  {
   "cell_type": "code",
   "execution_count": null,
   "metadata": {},
   "outputs": [],
   "source": [
    "ls=[]\n",
    "for g in blend2:\n",
    "    ls.append(g.split())\n",
    "\n",
    "depth = []\n",
    "mag = []\n",
    "\n",
    "for t, u in enumerate(ls):\n",
    "    depth.append(ls[t][0])\n",
    "    mag.append(ls[t][1])"
   ]
  },
  {
   "cell_type": "markdown",
   "metadata": {},
   "source": [
    "dates\n",
    "latitudes\n",
    "longitudes\n",
    "country\n",
    "depth\n",
    "mag"
   ]
  },
  {
   "cell_type": "code",
   "execution_count": null,
   "metadata": {},
   "outputs": [],
   "source": [
    "pqp=[]\n",
    "for s in latitudes:\n",
    "    x = s.replace('ago','').replace('min','').replace('hr','').replace(':','')\n",
    "    pqp.append(x.split())\n",
    "pqp[0][1:]\n",
    "\n",
    "cena=[]\n",
    "for y,u in enumerate(pqp):\n",
    "    r = pqp[y][1:]\n",
    "    txr = ' '.join(r)\n",
    "    cena.append(txr)\n",
    "print(cena)"
   ]
  },
  {
   "cell_type": "code",
   "execution_count": null,
   "metadata": {},
   "outputs": [],
   "source": [
    "df = pd.DataFrame({'Dates': dates, 'Latitude degrees': cena, 'Longitude degrees': longitudes, 'Depth': depth, 'Mag': mag, })"
   ]
  },
  {
   "cell_type": "code",
   "execution_count": null,
   "metadata": {},
   "outputs": [],
   "source": [
    "df"
   ]
  },
  {
   "cell_type": "markdown",
   "metadata": {},
   "source": [
    "I know I should clean the above Data Frame, but at this point I find that uncessary effort as I need to take a rest :). Resuming in another day."
   ]
  },
  {
   "cell_type": "markdown",
   "metadata": {},
   "source": [
    "#### Display the date, days, title, city, country of next 25 hackathon events as a Pandas dataframe table"
   ]
  },
  {
   "cell_type": "code",
   "execution_count": null,
   "metadata": {},
   "outputs": [],
   "source": [
    "# This is the url you will scrape in this exercise\n",
    "url ='https://hackevents.co/hackathons'"
   ]
  },
  {
   "cell_type": "markdown",
   "metadata": {},
   "source": [
    "This page is not safe, so I'll keep this one!"
   ]
  },
  {
   "cell_type": "code",
   "execution_count": null,
   "metadata": {},
   "outputs": [],
   "source": [
    "#your code\n",
    "driver=webdriver.Chrome(PATH)\n",
    "driver.get(url)"
   ]
  },
  {
   "cell_type": "markdown",
   "metadata": {},
   "source": [
    "#### Count number of tweets by a given Twitter account."
   ]
  },
  {
   "cell_type": "markdown",
   "metadata": {},
   "source": [
    "You will need to include a ***try/except block*** for account names not found. \n",
    "<br>***Hint:*** the program should count the number of tweets for any provided account"
   ]
  },
  {
   "cell_type": "code",
   "execution_count": null,
   "metadata": {},
   "outputs": [],
   "source": [
    "# This is the url you will scrape in this exercise \n",
    "# You will need to add the account credentials to this url\n",
    "url = 'https://twitter.com/'"
   ]
  },
  {
   "cell_type": "code",
   "execution_count": null,
   "metadata": {},
   "outputs": [],
   "source": [
    "#your code\n",
    "driver=webdriver.Chrome(PATH)\n",
    "driver.get(url)"
   ]
  },
  {
   "cell_type": "markdown",
   "metadata": {},
   "source": [
    "#### Number of followers of a given twitter account"
   ]
  },
  {
   "cell_type": "markdown",
   "metadata": {},
   "source": [
    "You will need to include a ***try/except block*** in case account/s name not found. \n",
    "<br>***Hint:*** the program should count the followers for any provided account"
   ]
  },
  {
   "cell_type": "code",
   "execution_count": null,
   "metadata": {},
   "outputs": [],
   "source": [
    "# This is the url you will scrape in this exercise \n",
    "# You will need to add the account credentials to this url\n",
    "url = 'https://twitter.com/'"
   ]
  },
  {
   "cell_type": "code",
   "execution_count": null,
   "metadata": {},
   "outputs": [],
   "source": [
    "#your code"
   ]
  },
  {
   "cell_type": "markdown",
   "metadata": {},
   "source": [
    "#### List all language names and number of related articles in the order they appear in wikipedia.org"
   ]
  },
  {
   "cell_type": "code",
   "execution_count": null,
   "metadata": {},
   "outputs": [],
   "source": [
    "# This is the url you will scrape in this exercise\n",
    "url = 'https://www.wikipedia.org/'"
   ]
  },
  {
   "cell_type": "code",
   "execution_count": null,
   "metadata": {},
   "outputs": [],
   "source": [
    "#your code\n",
    "driver=webdriver.Chrome(PATH)\n",
    "driver.get(url)"
   ]
  },
  {
   "cell_type": "code",
   "execution_count": null,
   "metadata": {},
   "outputs": [],
   "source": [
    "l=[a.text.replace('\\n',\"\").replace('+',\"\") for a in driver.find_elements_by_class_name('central-featured')]\n",
    "l"
   ]
  },
  {
   "cell_type": "markdown",
   "metadata": {},
   "source": [
    "#### A list with the different kind of datasets available in data.gov.uk "
   ]
  },
  {
   "cell_type": "code",
   "execution_count": null,
   "metadata": {},
   "outputs": [],
   "source": [
    "# This is the url you will scrape in this exercise\n",
    "url = 'https://data.gov.uk/'"
   ]
  },
  {
   "cell_type": "code",
   "execution_count": null,
   "metadata": {},
   "outputs": [],
   "source": [
    "#your code \n",
    "driver=webdriver.Chrome(PATH)\n",
    "driver.get(url)"
   ]
  },
  {
   "cell_type": "code",
   "execution_count": null,
   "metadata": {},
   "outputs": [],
   "source": [
    "topics = [a.text for a in driver.find_elements_by_tag_name('h3')]\n",
    "topics"
   ]
  },
  {
   "cell_type": "markdown",
   "metadata": {},
   "source": [
    "#### Top 10 languages by number of native speakers stored in a Pandas Dataframe"
   ]
  },
  {
   "cell_type": "code",
   "execution_count": null,
   "metadata": {},
   "outputs": [],
   "source": [
    "# This is the url you will scrape in this exercise\n",
    "url = 'https://en.wikipedia.org/wiki/List_of_languages_by_number_of_native_speakers'"
   ]
  },
  {
   "cell_type": "code",
   "execution_count": null,
   "metadata": {},
   "outputs": [],
   "source": [
    "#your code\n",
    "driver=webdriver.Chrome(PATH)\n",
    "driver.get(url)"
   ]
  },
  {
   "cell_type": "code",
   "execution_count": null,
   "metadata": {},
   "outputs": [],
   "source": [
    "table=driver.find_element_by_xpath('//*[@id=\"mw-content-text\"]/div[1]/table[2]')\n",
    "header=table.find_element_by_tag_name('thead')\n",
    "header.text"
   ]
  },
  {
   "cell_type": "code",
   "execution_count": null,
   "metadata": {},
   "outputs": [],
   "source": [
    "names = [e.text.replace('[8]','').replace('\\n',' ') for e in header.find_elements_by_tag_name('th')]\n",
    "names"
   ]
  },
  {
   "cell_type": "code",
   "execution_count": null,
   "metadata": {},
   "outputs": [],
   "source": [
    "information=table.find_element_by_tag_name('tbody')\n",
    "\n",
    "rows = table.find_elements_by_tag_name('tr')\n",
    "\n",
    "elements=[[k.text.replace('[9]','').replace('[10]','') for k in r.find_elements_by_tag_name('td')] for r in rows]"
   ]
  },
  {
   "cell_type": "code",
   "execution_count": null,
   "metadata": {},
   "outputs": [],
   "source": [
    "ranking = elements[1:]"
   ]
  },
  {
   "cell_type": "code",
   "execution_count": null,
   "metadata": {},
   "outputs": [],
   "source": [
    "df=pd.DataFrame(ranking, columns=names)\n",
    "\n",
    "df.head(6)"
   ]
  },
  {
   "cell_type": "markdown",
   "metadata": {},
   "source": [
    "### BONUS QUESTIONS"
   ]
  },
  {
   "cell_type": "markdown",
   "metadata": {},
   "source": [
    "#### Scrape a certain number of tweets of a given Twitter account."
   ]
  },
  {
   "cell_type": "code",
   "execution_count": null,
   "metadata": {},
   "outputs": [],
   "source": [
    "# This is the url you will scrape in this exercise \n",
    "# You will need to add the account credentials to this url\n",
    "url = 'https://twitter.com/'"
   ]
  },
  {
   "cell_type": "code",
   "execution_count": null,
   "metadata": {},
   "outputs": [],
   "source": [
    "# your code"
   ]
  },
  {
   "cell_type": "markdown",
   "metadata": {},
   "source": [
    "#### IMDB's Top 250 data (movie name, Initial release, director name and stars) as a pandas dataframe"
   ]
  },
  {
   "cell_type": "code",
   "execution_count": 6,
   "metadata": {},
   "outputs": [],
   "source": [
    "# This is the url you will scrape in this exercise \n",
    "url = 'https://www.imdb.com/chart/top'"
   ]
  },
  {
   "cell_type": "code",
   "execution_count": 7,
   "metadata": {},
   "outputs": [],
   "source": [
    "# your code\n",
    "driver=webdriver.Chrome(PATH)\n",
    "driver.get(url)"
   ]
  },
  {
   "cell_type": "code",
   "execution_count": 19,
   "metadata": {},
   "outputs": [],
   "source": [
    "movies=[a.text for a in driver.find_elements_by_tag_name('tr')]"
   ]
  },
  {
   "cell_type": "code",
   "execution_count": 18,
   "metadata": {},
   "outputs": [
    {
     "data": {
      "text/plain": [
       "'Rank & Title IMDb Rating Your Rating'"
      ]
     },
     "execution_count": 18,
     "metadata": {},
     "output_type": "execute_result"
    }
   ],
   "source": [
    "table=driver.find_element_by_xpath('//*[@id=\"main\"]/div/span/div/div/div[3]/table')\n",
    "header=table.find_element_by_tag_name('thead')\n",
    "header.text"
   ]
  },
  {
   "cell_type": "code",
   "execution_count": 103,
   "metadata": {},
   "outputs": [
    {
     "data": {
      "text/plain": [
       "['Rank & Title', 'IMDb Rating']"
      ]
     },
     "execution_count": 103,
     "metadata": {},
     "output_type": "execute_result"
    }
   ],
   "source": [
    "names = [e.text for e in header.find_elements_by_tag_name('th')]\n",
    "headers=names[1:3]\n",
    "headers    "
   ]
  },
  {
   "cell_type": "code",
   "execution_count": 26,
   "metadata": {},
   "outputs": [],
   "source": [
    "information=table.find_element_by_tag_name('tbody')\n",
    "\n",
    "rows = table.find_elements_by_tag_name('tr')\n",
    "\n",
    "elements=[[k.text for k in r.find_elements_by_tag_name('td')] for r in rows]"
   ]
  },
  {
   "cell_type": "code",
   "execution_count": 68,
   "metadata": {},
   "outputs": [
    {
     "data": {
      "text/plain": [
       "[[],\n",
       " ['', '1. The Shawshank Redemption (1994)', '9.2', '', ''],\n",
       " ['', '2. The Godfather (1972)', '9.1', '', ''],\n",
       " ['', '3. The Godfather: Part II (1974)', '9.0', '', ''],\n",
       " ['', '4. The Dark Knight (2008)', '9.0', '', ''],\n",
       " ['', '5. 12 Angry Men (1957)', '8.9', '', ''],\n",
       " ['', \"6. Schindler's List (1993)\", '8.9', '', ''],\n",
       " ['',\n",
       "  '7. The Lord of the Rings: The Return of the King (2003)',\n",
       "  '8.9',\n",
       "  '',\n",
       "  ''],\n",
       " ['', '8. Pulp Fiction (1994)', '8.8', '', ''],\n",
       " ['', '9. The Good, the Bad and the Ugly (1966)', '8.8', '', ''],\n",
       " ['',\n",
       "  '10. The Lord of the Rings: The Fellowship of the Ring (2001)',\n",
       "  '8.8',\n",
       "  '',\n",
       "  ''],\n",
       " ['', '11. Fight Club (1999)', '8.8', '', ''],\n",
       " ['', '12. Forrest Gump (1994)', '8.7', '', ''],\n",
       " ['', '13. Inception (2010)', '8.7', '', ''],\n",
       " ['', '14. The Lord of the Rings: The Two Towers (2002)', '8.7', '', ''],\n",
       " ['',\n",
       "  '15. Star Wars: Episode V - The Empire Strikes Back (1980)',\n",
       "  '8.7',\n",
       "  '',\n",
       "  ''],\n",
       " ['', '16. The Matrix (1999)', '8.6', '', ''],\n",
       " ['', '17. Goodfellas (1990)', '8.6', '', ''],\n",
       " ['', \"18. One Flew Over the Cuckoo's Nest (1975)\", '8.6', '', ''],\n",
       " ['', '19. Seven Samurai (1954)', '8.6', '', ''],\n",
       " ['', '20. Seven (1995)', '8.6', '', ''],\n",
       " ['', '21. The Silence of the Lambs (1991)', '8.6', '', ''],\n",
       " ['', '22. City of God (2002)', '8.6', '', ''],\n",
       " ['', '23. Life Is Beautiful (1997)', '8.6', '', ''],\n",
       " ['', \"24. It's a Wonderful Life (1946)\", '8.6', '', ''],\n",
       " ['', '25. Star Wars: Episode IV - A New Hope (1977)', '8.6', '', ''],\n",
       " ['', '26. Saving Private Ryan (1998)', '8.5', '', ''],\n",
       " ['', '27. Spirited Away (2001)', '8.5', '', ''],\n",
       " ['', '28. The Green Mile (1999)', '8.5', '', ''],\n",
       " ['', '29. Interstellar (2014)', '8.5', '', ''],\n",
       " ['', '30. Parasite (2019)', '8.5', '', ''],\n",
       " ['', '31. Leon (1994)', '8.5', '', ''],\n",
       " ['', '32. Harakiri (1962)', '8.5', '', ''],\n",
       " ['', '33. The Usual Suspects (1995)', '8.5', '', ''],\n",
       " ['', '34. The Pianist (2002)', '8.5', '', ''],\n",
       " ['', '35. Back to the Future (1985)', '8.5', '', ''],\n",
       " ['', '36. Terminator 2: Judgment Day (1991)', '8.5', '', ''],\n",
       " ['', '37. Modern Times (1936)', '8.5', '', ''],\n",
       " ['', '38. Psycho (1960)', '8.5', '', ''],\n",
       " ['', '39. The Lion King (1994)', '8.5', '', ''],\n",
       " ['', '40. American History X (1998)', '8.5', '', ''],\n",
       " ['', '41. City Lights (1931)', '8.5', '', ''],\n",
       " ['', '42. Gladiator (2000)', '8.5', '', ''],\n",
       " ['', '43. The Departed (2006)', '8.5', '', ''],\n",
       " ['', '44. Whiplash (2014)', '8.5', '', ''],\n",
       " ['', '45. Grave of the Fireflies (1988)', '8.5', '', ''],\n",
       " ['', '46. Untouchable (2011)', '8.5', '', ''],\n",
       " ['', '47. The Prestige (2006)', '8.5', '', ''],\n",
       " ['', '48. Casablanca (1942)', '8.4', '', ''],\n",
       " ['', '49. Once Upon a Time in the West (1968)', '8.4', '', ''],\n",
       " ['', '50. Rear Window (1954)', '8.4', '', ''],\n",
       " ['', '51. Cinema Paradiso (1988)', '8.4', '', ''],\n",
       " ['', '52. Alien (1979)', '8.4', '', ''],\n",
       " ['', '53. Apocalypse Now (1979)', '8.4', '', ''],\n",
       " ['', '54. Memento (2000)', '8.4', '', ''],\n",
       " ['', '55. Raiders of the Lost Ark (1981)', '8.4', '', ''],\n",
       " ['', '56. The Great Dictator (1940)', '8.4', '', ''],\n",
       " ['', '57. The Lives of Others (2006)', '8.4', '', ''],\n",
       " ['', '58. Django Unchained (2012)', '8.4', '', ''],\n",
       " ['', '59. Paths of Glory (1957)', '8.4', '', ''],\n",
       " ['', '60. Sunset Blvd. (1950)', '8.4', '', ''],\n",
       " ['', '61. WALL·E (2008)', '8.4', '', ''],\n",
       " ['', '62. The Shining (1980)', '8.4', '', ''],\n",
       " ['', '63. Joker (2019)', '8.4', '', ''],\n",
       " ['', '64. Witness for the Prosecution (1957)', '8.4', '', ''],\n",
       " ['', '65. Avengers: Infinity War (2018)', '8.4', '', ''],\n",
       " ['',\n",
       "  '66. Dr. Strangelove or: How I Learned to Stop Worrying and Love the Bomb (1964)',\n",
       "  '8.4',\n",
       "  '',\n",
       "  ''],\n",
       " ['', '67. Spider-Man: Into the Spider-Verse (2018)', '8.3', '', ''],\n",
       " ['', '68. Hamilton (2020)', '8.3', '', ''],\n",
       " ['', '69. Princess Mononoke (1997)', '8.3', '', ''],\n",
       " ['', '70. Oldboy (2003)', '8.3', '', ''],\n",
       " ['', '71. Once Upon a Time in America (1984)', '8.3', '', ''],\n",
       " ['', '72. The Dark Knight Rises (2012)', '8.3', '', ''],\n",
       " ['', '73. Your Name. (2016)', '8.3', '', ''],\n",
       " ['', '74. Aliens (1986)', '8.3', '', ''],\n",
       " ['', '75. Coco (2017)', '8.3', '', ''],\n",
       " ['', '76. Das Boot (1981)', '8.3', '', ''],\n",
       " ['', '77. Capernaum (2018)', '8.3', '', ''],\n",
       " ['', '78. Avengers: Endgame (2019)', '8.3', '', ''],\n",
       " ['', '79. High and Low (1963)', '8.3', '', ''],\n",
       " ['', '80. American Beauty (1999)', '8.3', '', ''],\n",
       " ['', '81. Toy Story (1995)', '8.3', '', ''],\n",
       " ['', '82. Braveheart (1995)', '8.3', '', ''],\n",
       " ['', '83. Amadeus (1984)', '8.3', '', ''],\n",
       " ['', '84. 3 Idiots (2009)', '8.3', '', ''],\n",
       " ['', '85. Inglourious Basterds (2009)', '8.3', '', ''],\n",
       " ['', '86. Good Will Hunting (1997)', '8.3', '', ''],\n",
       " ['', '87. Star Wars: Return of the Jedi (1983)', '8.3', '', ''],\n",
       " ['', '88. Reservoir Dogs (1992)', '8.3', '', ''],\n",
       " ['', '89. 2001: A Space Odyssey (1968)', '8.3', '', ''],\n",
       " ['', '90. M (1931)', '8.3', '', ''],\n",
       " ['', '91. Citizen Kane (1941)', '8.3', '', ''],\n",
       " ['', '92. Like Stars on Earth (2007)', '8.3', '', ''],\n",
       " ['', '93. Vertigo (1958)', '8.3', '', ''],\n",
       " ['', '94. Requiem for a Dream (2000)', '8.3', '', ''],\n",
       " ['', '95. The Hunt (2012)', '8.3', '', ''],\n",
       " ['', '96. North by Northwest (1959)', '8.3', '', ''],\n",
       " ['', \"97. Singin' in the Rain (1952)\", '8.3', '', ''],\n",
       " ['', '98. Eternal Sunshine of the Spotless Mind (2004)', '8.3', '', ''],\n",
       " ['', '99. Bicycle Thieves (1948)', '8.3', '', ''],\n",
       " ['', '100. Come and See (1985)', '8.3', '', ''],\n",
       " ['', '101. Ikiru (1952)', '8.3', '', ''],\n",
       " ['', '102. Lawrence of Arabia (1962)', '8.2', '', ''],\n",
       " ['', '103. The Kid (1921)', '8.2', '', ''],\n",
       " ['', '104. The Father (2020)', '8.2', '', ''],\n",
       " ['', '105. Full Metal Jacket (1987)', '8.2', '', ''],\n",
       " ['', '106. Dangal (2016)', '8.2', '', ''],\n",
       " ['', '107. A Clockwork Orange (1971)', '8.2', '', ''],\n",
       " ['', '108. Taxi Driver (1976)', '8.2', '', ''],\n",
       " ['', '109. Metropolis (1927)', '8.2', '', ''],\n",
       " ['', '110. The Sting (1973)', '8.2', '', ''],\n",
       " ['', '111. 1917 (2019)', '8.2', '', ''],\n",
       " ['', '112. Double Indemnity (1944)', '8.2', '', ''],\n",
       " ['', '113. Amélie (2001)', '8.2', '', ''],\n",
       " ['', '114. A Separation (2011)', '8.2', '', ''],\n",
       " ['', '115. Snatch (2000)', '8.2', '', ''],\n",
       " ['', '116. The Apartment (1960)', '8.2', '', ''],\n",
       " ['', '117. Scarface (1983)', '8.2', '', ''],\n",
       " ['', '118. Incendies (2010)', '8.2', '', ''],\n",
       " ['', '119. Toy Story 3 (2010)', '8.2', '', ''],\n",
       " ['', '120. To Kill a Mockingbird (1962)', '8.2', '', ''],\n",
       " ['', '121. For a Few Dollars More (1965)', '8.2', '', ''],\n",
       " ['', '122. Up (2009)', '8.2', '', ''],\n",
       " ['', '123. Indiana Jones and the Last Crusade (1989)', '8.2', '', ''],\n",
       " ['', '124. L.A. Confidential (1997)', '8.2', '', ''],\n",
       " ['', '125. Rashomon (1950)', '8.2', '', ''],\n",
       " ['', '126. Heat (1995)', '8.2', '', ''],\n",
       " ['', '127. Yojimbo (1961)', '8.2', '', ''],\n",
       " ['', '128. Die Hard (1988)', '8.2', '', ''],\n",
       " ['', '129. Ran (1985)', '8.2', '', ''],\n",
       " ['', '130. Monty Python and the Holy Grail (1975)', '8.2', '', ''],\n",
       " ['', '131. Downfall (2004)', '8.2', '', ''],\n",
       " ['', '132. Green Book (2018)', '8.2', '', ''],\n",
       " ['', '133. Batman Begins (2005)', '8.2', '', ''],\n",
       " ['', '134. Some Like It Hot (1959)', '8.2', '', ''],\n",
       " ['', '135. All About Eve (1950)', '8.2', '', ''],\n",
       " ['', '136. Unforgiven (1992)', '8.2', '', ''],\n",
       " ['', '137. Children of Heaven (1997)', '8.2', '', ''],\n",
       " ['', \"138. Howl's Moving Castle (2004)\", '8.2', '', ''],\n",
       " ['', '139. The Great Escape (1963)', '8.2', '', ''],\n",
       " ['', '140. The Wolf of Wall Street (2013)', '8.2', '', ''],\n",
       " ['', '141. Judgment at Nuremberg (1961)', '8.2', '', ''],\n",
       " ['', '142. Casino (1995)', '8.2', '', ''],\n",
       " ['', \"143. Pan's Labyrinth (2006)\", '8.2', '', ''],\n",
       " ['', '144. The Treasure of the Sierra Madre (1948)', '8.2', '', ''],\n",
       " ['', '145. A Beautiful Mind (2001)', '8.1', '', ''],\n",
       " ['', '146. There Will Be Blood (2007)', '8.1', '', ''],\n",
       " ['', '147. The Secret in Their Eyes (2009)', '8.1', '', ''],\n",
       " ['', '148. Raging Bull (1980)', '8.1', '', ''],\n",
       " ['', '149. My Neighbour Totoro (1988)', '8.1', '', ''],\n",
       " ['', '150. Chinatown (1974)', '8.1', '', ''],\n",
       " ['', '151. Lock, Stock and Two Smoking Barrels (1998)', '8.1', '', ''],\n",
       " ['', '152. The Gold Rush (1925)', '8.1', '', ''],\n",
       " ['', '153. Three Billboards Outside Ebbing, Missouri (2017)', '8.1', '', ''],\n",
       " ['', '154. Dial M for Murder (1954)', '8.1', '', ''],\n",
       " ['', '155. No Country for Old Men (2007)', '8.1', '', ''],\n",
       " ['', '156. The Seventh Seal (1957)', '8.1', '', ''],\n",
       " ['', '157. Shutter Island (2010)', '8.1', '', ''],\n",
       " ['', '158. The Elephant Man (1980)', '8.1', '', ''],\n",
       " ['', '159. The Thing (1982)', '8.1', '', ''],\n",
       " ['', '160. The Sixth Sense (1999)', '8.1', '', ''],\n",
       " ['', '161. Inside Out (2015)', '8.1', '', ''],\n",
       " ['', '162. V for Vendetta (2005)', '8.1', '', ''],\n",
       " ['', '163. The Third Man (1949)', '8.1', '', ''],\n",
       " ['', '164. Klaus (2019)', '8.1', '', ''],\n",
       " ['', '165. Blade Runner (1982)', '8.1', '', ''],\n",
       " ['', '166. Wild Strawberries (1957)', '8.1', '', ''],\n",
       " ['', '167. The Bridge on the River Kwai (1957)', '8.1', '', ''],\n",
       " ['', '168. Trainspotting (1996)', '8.1', '', ''],\n",
       " ['', '169. My Father and My Son (2005)', '8.1', '', ''],\n",
       " ['', '170. Warrior (2011)', '8.1', '', ''],\n",
       " ['', '171. Jurassic Park (1993)', '8.1', '', ''],\n",
       " ['', '172. The Truman Show (1998)', '8.1', '', ''],\n",
       " ['', '173. Fargo (1996)', '8.1', '', ''],\n",
       " ['', '174. Finding Nemo (2003)', '8.1', '', ''],\n",
       " ['', '175. Gone with the Wind (1939)', '8.1', '', ''],\n",
       " ['', '176. Tokyo Story (1953)', '8.1', '', ''],\n",
       " ['', '177. Memories of Murder (2003)', '8.1', '', ''],\n",
       " ['', '178. Kill Bill: Vol. 1 (2003)', '8.1', '', ''],\n",
       " ['', '179. On the Waterfront (1954)', '8.1', '', ''],\n",
       " ['', '180. Stalker (1979)', '8.1', '', ''],\n",
       " ['', '181. The General (1926)', '8.1', '', ''],\n",
       " ['', '182. The Deer Hunter (1978)', '8.1', '', ''],\n",
       " ['', '183. Wild Tales (2014)', '8.1', '', ''],\n",
       " ['', '184. Gran Torino (2008)', '8.1', '', ''],\n",
       " ['', '185. Sherlock Jr. (1924)', '8.1', '', ''],\n",
       " ['', '186. Room (2015)', '8.1', '', ''],\n",
       " ['', '187. The Grand Budapest Hotel (2014)', '8.1', '', ''],\n",
       " ['', '188. Mary and Max (2009)', '8.1', '', ''],\n",
       " ['', '189. Before Sunrise (1995)', '8.1', '', ''],\n",
       " ['', '190. Persona (1966)', '8.1', '', ''],\n",
       " ['', '191. In the Name of the Father (1993)', '8.1', '', ''],\n",
       " ['', '192. Mr. Smith Goes to Washington (1939)', '8.1', '', ''],\n",
       " ['', '193. Prisoners (2013)', '8.1', '', ''],\n",
       " ['', '194. To Be or Not to Be (1942)', '8.1', '', ''],\n",
       " ['', '195. Gone Girl (2014)', '8.1', '', ''],\n",
       " ['', '196. Catch Me If You Can (2002)', '8.1', '', ''],\n",
       " ['', '197. Hacksaw Ridge (2016)', '8.1', '', ''],\n",
       " ['', '198. The Big Lebowski (1998)', '8.1', '', ''],\n",
       " ['', '199. Barry Lyndon (1975)', '8.1', '', ''],\n",
       " ['', '200. 12 Years a Slave (2013)', '8.1', '', ''],\n",
       " ['', '201. Andhadhun (2018)', '8.1', '', ''],\n",
       " ['', \"202. Le Mans '66 (2019)\", '8.1', '', ''],\n",
       " ['', '203. The Passion of Joan of Arc (1928)', '8.1', '', ''],\n",
       " ['', '204. How to Train Your Dragon (2010)', '8.1', '', ''],\n",
       " ['', '205. Mad Max: Fury Road (2015)', '8.1', '', ''],\n",
       " ['', '206. The Wages of Fear (1953)', '8.1', '', ''],\n",
       " ['', '207. Million Dollar Baby (2004)', '8.1', '', ''],\n",
       " ['', '208. Ben-Hur (1959)', '8.1', '', ''],\n",
       " ['', '209. Network (1976)', '8.1', '', ''],\n",
       " ['', '210. Autumn Sonata (1978)', '8.1', '', ''],\n",
       " ['', '211. Stand by Me (1986)', '8.1', '', ''],\n",
       " ['', '212. Dead Poets Society (1989)', '8.1', '', ''],\n",
       " ['',\n",
       "  '213. Harry Potter and the Deathly Hallows: Part 2 (2011)',\n",
       "  '8.1',\n",
       "  '',\n",
       "  ''],\n",
       " ['', '214. Cool Hand Luke (1967)', '8.1', '', ''],\n",
       " ['', '215. The 400 Blows (1959)', '8.1', '', ''],\n",
       " ['', '216. The Bandit (1996)', '8.1', '', ''],\n",
       " ['', '217. The Handmaiden (2016)', '8.1', '', ''],\n",
       " ['', '218. Logan (2017)', '8.0', '', ''],\n",
       " ['', '219. Platoon (1986)', '8.0', '', ''],\n",
       " ['', \"220. Hachi: A Dog's Tale (2009)\", '8.0', '', ''],\n",
       " ['', \"221. Monty Python's Life of Brian (1979)\", '8.0', '', ''],\n",
       " ['', '222. La Haine (1995)', '8.0', '', ''],\n",
       " ['', '223. Spotlight (2015)', '8.0', '', ''],\n",
       " ['', '224. Hotel Rwanda (2004)', '8.0', '', ''],\n",
       " ['', '225. Into the Wild (2007)', '8.0', '', ''],\n",
       " ['', '226. Rush (2013)', '8.0', '', ''],\n",
       " ['', '227. Rebecca (1940)', '8.0', '', ''],\n",
       " ['', '228. Andrei Rublev (1966)', '8.0', '', ''],\n",
       " ['', '229. Monsters, Inc. (2001)', '8.0', '', ''],\n",
       " ['', '230. Amores Perros (2000)', '8.0', '', ''],\n",
       " ['', '231. Rocky (1976)', '8.0', '', ''],\n",
       " ['', '232. Soul (2020)', '8.0', '', ''],\n",
       " ['', '233. Nausicaä of the Valley of the Wind (1984)', '8.0', '', ''],\n",
       " ['', '234. In the Mood for Love (2000)', '8.0', '', ''],\n",
       " ['', '235. It Happened One Night (1934)', '8.0', '', ''],\n",
       " ['', '236. Raatchasan (2018)', '8.0', '', ''],\n",
       " ['', '237. Rififi (1955)', '8.0', '', ''],\n",
       " ['', '238. The Battle of Algiers (1966)', '8.0', '', ''],\n",
       " ['', '239. A Silent Voice (2016)', '8.0', '', ''],\n",
       " ['', '240. Before Sunset (2004)', '8.0', '', ''],\n",
       " ['', '241. Gangs of Wasseypur (2012)', '8.0', '', ''],\n",
       " ['', '242. Sunrise: A Song of Two Humans (1927)', '8.0', '', ''],\n",
       " ['', '243. Anand (1971)', '8.0', '', ''],\n",
       " ['', '244. Fanny and Alexander (1982)', '8.0', '', ''],\n",
       " ['', '245. The Princess Bride (1987)', '8.0', '', ''],\n",
       " ['', '246. Three Colours: Red (1994)', '8.0', '', ''],\n",
       " ['', '247. Time of the Gypsies (1988)', '8.0', '', ''],\n",
       " ['', '248. Nights of Cabiria (1957)', '8.0', '', ''],\n",
       " ['', '249. Throne of Blood (1957)', '8.0', '', ''],\n",
       " ['', '250. The Man Who Shot Liberty Valance (1962)', '8.0', '', '']]"
      ]
     },
     "execution_count": 68,
     "metadata": {},
     "output_type": "execute_result"
    }
   ],
   "source": [
    "elements"
   ]
  },
  {
   "cell_type": "code",
   "execution_count": 120,
   "metadata": {},
   "outputs": [
    {
     "data": {
      "text/plain": [
       "'1. The Shawshank Redemption (1994)'"
      ]
     },
     "execution_count": 120,
     "metadata": {},
     "output_type": "execute_result"
    }
   ],
   "source": [
    "nova=[]\n",
    "\n",
    "for i in range(len(elements)):\n",
    "    for j in range(len(elements[i])):\n",
    "        if elements[i][j] != '':\n",
    "            nova.append(elements[i][j])\n",
    "nova[0]"
   ]
  },
  {
   "cell_type": "code",
   "execution_count": 123,
   "metadata": {},
   "outputs": [
    {
     "data": {
      "text/plain": [
       "['9.2',\n",
       " '9.1',\n",
       " '9.0',\n",
       " '9.0',\n",
       " '8.9',\n",
       " '8.9',\n",
       " '8.9',\n",
       " '8.8',\n",
       " '8.8',\n",
       " '8.8',\n",
       " '8.8',\n",
       " '8.7',\n",
       " '8.7',\n",
       " '8.7',\n",
       " '8.7',\n",
       " '8.6',\n",
       " '8.6',\n",
       " '8.6',\n",
       " '8.6',\n",
       " '8.6',\n",
       " '8.6',\n",
       " '8.6',\n",
       " '8.6',\n",
       " '8.6',\n",
       " '8.6',\n",
       " '8.5',\n",
       " '8.5',\n",
       " '8.5',\n",
       " '8.5',\n",
       " '8.5',\n",
       " '8.5',\n",
       " '8.5',\n",
       " '8.5',\n",
       " '8.5',\n",
       " '8.5',\n",
       " '8.5',\n",
       " '8.5',\n",
       " '8.5',\n",
       " '8.5',\n",
       " '8.5',\n",
       " '8.5',\n",
       " '8.5',\n",
       " '8.5',\n",
       " '8.5',\n",
       " '8.5',\n",
       " '8.5',\n",
       " '8.5',\n",
       " '8.4',\n",
       " '8.4',\n",
       " '8.4',\n",
       " '8.4',\n",
       " '8.4',\n",
       " '8.4',\n",
       " '8.4',\n",
       " '8.4',\n",
       " '8.4',\n",
       " '8.4',\n",
       " '8.4',\n",
       " '8.4',\n",
       " '8.4',\n",
       " '8.4',\n",
       " '8.4',\n",
       " '8.4',\n",
       " '8.4',\n",
       " '8.4',\n",
       " '8.4',\n",
       " '8.3',\n",
       " '8.3',\n",
       " '8.3',\n",
       " '8.3',\n",
       " '8.3',\n",
       " '8.3',\n",
       " '8.3',\n",
       " '8.3',\n",
       " '8.3',\n",
       " '8.3',\n",
       " '8.3',\n",
       " '8.3',\n",
       " '8.3',\n",
       " '8.3',\n",
       " '8.3',\n",
       " '8.3',\n",
       " '8.3',\n",
       " '8.3',\n",
       " '8.3',\n",
       " '8.3',\n",
       " '8.3',\n",
       " '8.3',\n",
       " '8.3',\n",
       " '8.3',\n",
       " '8.3',\n",
       " '8.3',\n",
       " '8.3',\n",
       " '8.3',\n",
       " '8.3',\n",
       " '8.3',\n",
       " '8.3',\n",
       " '8.3',\n",
       " '8.3',\n",
       " '8.3',\n",
       " '8.3',\n",
       " '8.2',\n",
       " '8.2',\n",
       " '8.2',\n",
       " '8.2',\n",
       " '8.2',\n",
       " '8.2',\n",
       " '8.2',\n",
       " '8.2',\n",
       " '8.2',\n",
       " '8.2',\n",
       " '8.2',\n",
       " '8.2',\n",
       " '8.2',\n",
       " '8.2',\n",
       " '8.2',\n",
       " '8.2',\n",
       " '8.2',\n",
       " '8.2',\n",
       " '8.2',\n",
       " '8.2',\n",
       " '8.2',\n",
       " '8.2',\n",
       " '8.2',\n",
       " '8.2',\n",
       " '8.2',\n",
       " '8.2',\n",
       " '8.2',\n",
       " '8.2',\n",
       " '8.2',\n",
       " '8.2',\n",
       " '8.2',\n",
       " '8.2',\n",
       " '8.2',\n",
       " '8.2',\n",
       " '8.2',\n",
       " '8.2',\n",
       " '8.2',\n",
       " '8.2',\n",
       " '8.2',\n",
       " '8.2',\n",
       " '8.2',\n",
       " '8.2',\n",
       " '8.2',\n",
       " '8.1',\n",
       " '8.1',\n",
       " '8.1',\n",
       " '8.1',\n",
       " '8.1',\n",
       " '8.1',\n",
       " '8.1',\n",
       " '8.1',\n",
       " '8.1',\n",
       " '8.1',\n",
       " '8.1',\n",
       " '8.1',\n",
       " '8.1',\n",
       " '8.1',\n",
       " '8.1',\n",
       " '8.1',\n",
       " '8.1',\n",
       " '8.1',\n",
       " '8.1',\n",
       " '8.1',\n",
       " '8.1',\n",
       " '8.1',\n",
       " '8.1',\n",
       " '8.1',\n",
       " '8.1',\n",
       " '8.1',\n",
       " '8.1',\n",
       " '8.1',\n",
       " '8.1',\n",
       " '8.1',\n",
       " '8.1',\n",
       " '8.1',\n",
       " '8.1',\n",
       " '8.1',\n",
       " '8.1',\n",
       " '8.1',\n",
       " '8.1',\n",
       " '8.1',\n",
       " '8.1',\n",
       " '8.1',\n",
       " '8.1',\n",
       " '8.1',\n",
       " '8.1',\n",
       " '8.1',\n",
       " '8.1',\n",
       " '8.1',\n",
       " '8.1',\n",
       " '8.1',\n",
       " '8.1',\n",
       " '8.1',\n",
       " '8.1',\n",
       " '8.1',\n",
       " '8.1',\n",
       " '8.1',\n",
       " '8.1',\n",
       " '8.1',\n",
       " '8.1',\n",
       " '8.1',\n",
       " '8.1',\n",
       " '8.1',\n",
       " '8.1',\n",
       " '8.1',\n",
       " '8.1',\n",
       " '8.1',\n",
       " '8.1',\n",
       " '8.1',\n",
       " '8.1',\n",
       " '8.1',\n",
       " '8.1',\n",
       " '8.1',\n",
       " '8.1',\n",
       " '8.1',\n",
       " '8.1',\n",
       " '8.0',\n",
       " '8.0',\n",
       " '8.0',\n",
       " '8.0',\n",
       " '8.0',\n",
       " '8.0',\n",
       " '8.0',\n",
       " '8.0',\n",
       " '8.0',\n",
       " '8.0',\n",
       " '8.0',\n",
       " '8.0',\n",
       " '8.0',\n",
       " '8.0',\n",
       " '8.0',\n",
       " '8.0',\n",
       " '8.0',\n",
       " '8.0',\n",
       " '8.0',\n",
       " '8.0',\n",
       " '8.0',\n",
       " '8.0',\n",
       " '8.0',\n",
       " '8.0',\n",
       " '8.0',\n",
       " '8.0',\n",
       " '8.0',\n",
       " '8.0',\n",
       " '8.0',\n",
       " '8.0',\n",
       " '8.0',\n",
       " '8.0',\n",
       " '8.0']"
      ]
     },
     "execution_count": 123,
     "metadata": {},
     "output_type": "execute_result"
    }
   ],
   "source": [
    "films=[]\n",
    "imdb=[]\n",
    "\n",
    "for i,k in enumerate(nova):\n",
    "    if i%2 == 0:\n",
    "        films.append(nova[i])\n",
    "    else:\n",
    "        imdb.append(nova[i])\n",
    "imdb"
   ]
  },
  {
   "cell_type": "code",
   "execution_count": 124,
   "metadata": {},
   "outputs": [],
   "source": [
    "df=pd.DataFrame()"
   ]
  },
  {
   "cell_type": "code",
   "execution_count": 125,
   "metadata": {},
   "outputs": [],
   "source": [
    "df['Rank & Title'] = films\n",
    "df['IMDb Ranking'] = imdb"
   ]
  },
  {
   "cell_type": "code",
   "execution_count": 126,
   "metadata": {},
   "outputs": [
    {
     "data": {
      "text/html": [
       "<div>\n",
       "<style scoped>\n",
       "    .dataframe tbody tr th:only-of-type {\n",
       "        vertical-align: middle;\n",
       "    }\n",
       "\n",
       "    .dataframe tbody tr th {\n",
       "        vertical-align: top;\n",
       "    }\n",
       "\n",
       "    .dataframe thead th {\n",
       "        text-align: right;\n",
       "    }\n",
       "</style>\n",
       "<table border=\"1\" class=\"dataframe\">\n",
       "  <thead>\n",
       "    <tr style=\"text-align: right;\">\n",
       "      <th></th>\n",
       "      <th>Rank &amp; Title</th>\n",
       "      <th>IMDb Ranking</th>\n",
       "    </tr>\n",
       "  </thead>\n",
       "  <tbody>\n",
       "    <tr>\n",
       "      <th>0</th>\n",
       "      <td>1. The Shawshank Redemption (1994)</td>\n",
       "      <td>9.2</td>\n",
       "    </tr>\n",
       "    <tr>\n",
       "      <th>1</th>\n",
       "      <td>2. The Godfather (1972)</td>\n",
       "      <td>9.1</td>\n",
       "    </tr>\n",
       "    <tr>\n",
       "      <th>2</th>\n",
       "      <td>3. The Godfather: Part II (1974)</td>\n",
       "      <td>9.0</td>\n",
       "    </tr>\n",
       "    <tr>\n",
       "      <th>3</th>\n",
       "      <td>4. The Dark Knight (2008)</td>\n",
       "      <td>9.0</td>\n",
       "    </tr>\n",
       "    <tr>\n",
       "      <th>4</th>\n",
       "      <td>5. 12 Angry Men (1957)</td>\n",
       "      <td>8.9</td>\n",
       "    </tr>\n",
       "    <tr>\n",
       "      <th>...</th>\n",
       "      <td>...</td>\n",
       "      <td>...</td>\n",
       "    </tr>\n",
       "    <tr>\n",
       "      <th>245</th>\n",
       "      <td>246. Three Colours: Red (1994)</td>\n",
       "      <td>8.0</td>\n",
       "    </tr>\n",
       "    <tr>\n",
       "      <th>246</th>\n",
       "      <td>247. Time of the Gypsies (1988)</td>\n",
       "      <td>8.0</td>\n",
       "    </tr>\n",
       "    <tr>\n",
       "      <th>247</th>\n",
       "      <td>248. Nights of Cabiria (1957)</td>\n",
       "      <td>8.0</td>\n",
       "    </tr>\n",
       "    <tr>\n",
       "      <th>248</th>\n",
       "      <td>249. Throne of Blood (1957)</td>\n",
       "      <td>8.0</td>\n",
       "    </tr>\n",
       "    <tr>\n",
       "      <th>249</th>\n",
       "      <td>250. The Man Who Shot Liberty Valance (1962)</td>\n",
       "      <td>8.0</td>\n",
       "    </tr>\n",
       "  </tbody>\n",
       "</table>\n",
       "<p>250 rows × 2 columns</p>\n",
       "</div>"
      ],
      "text/plain": [
       "                                     Rank & Title IMDb Ranking\n",
       "0              1. The Shawshank Redemption (1994)          9.2\n",
       "1                         2. The Godfather (1972)          9.1\n",
       "2                3. The Godfather: Part II (1974)          9.0\n",
       "3                       4. The Dark Knight (2008)          9.0\n",
       "4                          5. 12 Angry Men (1957)          8.9\n",
       "..                                            ...          ...\n",
       "245                246. Three Colours: Red (1994)          8.0\n",
       "246               247. Time of the Gypsies (1988)          8.0\n",
       "247                 248. Nights of Cabiria (1957)          8.0\n",
       "248                   249. Throne of Blood (1957)          8.0\n",
       "249  250. The Man Who Shot Liberty Valance (1962)          8.0\n",
       "\n",
       "[250 rows x 2 columns]"
      ]
     },
     "execution_count": 126,
     "metadata": {},
     "output_type": "execute_result"
    }
   ],
   "source": [
    "df"
   ]
  },
  {
   "cell_type": "markdown",
   "metadata": {},
   "source": [
    "#### Movie name, year and a brief summary of the top 10 random movies (IMDB) as a pandas dataframe."
   ]
  },
  {
   "cell_type": "code",
   "execution_count": null,
   "metadata": {},
   "outputs": [],
   "source": [
    "#This is the url you will scrape in this exercise\n",
    "url = 'http://www.imdb.com/chart/top'"
   ]
  },
  {
   "cell_type": "code",
   "execution_count": null,
   "metadata": {},
   "outputs": [],
   "source": [
    "#your code"
   ]
  },
  {
   "cell_type": "markdown",
   "metadata": {},
   "source": [
    "#### Find the live weather report (temperature, wind speed, description and weather) of a given city."
   ]
  },
  {
   "cell_type": "code",
   "execution_count": 128,
   "metadata": {},
   "outputs": [
    {
     "name": "stdout",
     "output_type": "stream",
     "text": [
      "Enter the city:Lisbon\n"
     ]
    }
   ],
   "source": [
    "#https://openweathermap.org/current\n",
    "city = city=input('Enter the city:')\n",
    "url = 'http://api.openweathermap.org/data/2.5/weather?'+'q='+city+'&APPID=b35975e18dc93725acb092f7272cc6b8&units=metric'"
   ]
  },
  {
   "cell_type": "code",
   "execution_count": 129,
   "metadata": {},
   "outputs": [],
   "source": [
    "# your code\n",
    "driver=webdriver.Chrome(PATH)\n",
    "driver.get(url)"
   ]
  },
  {
   "cell_type": "code",
   "execution_count": 143,
   "metadata": {},
   "outputs": [
    {
     "data": {
      "text/plain": [
       "'{\"coord\":{\"lon\":-9.1333,\"lat\":38.7167},\"weather\":[{\"id\":803,\"main\":\"Clouds\",\"description\":\"broken clouds\",\"icon\":\"04d\"}],\"base\":\"stations\",\"main\":{\"temp\":18.62,\"feels_like\":18.65,\"temp_min\":16.58,\"temp_max\":20.04,\"pressure\":1020,\"humidity\":81},\"visibility\":10000,\"wind\":{\"speed\":4.63,\"deg\":260},\"clouds\":{\"all\":75},\"dt\":1620917356,\"sys\":{\"type\":1,\"id\":6897,\"country\":\"PT\",\"sunrise\":1620883575,\"sunset\":1620934778},\"timezone\":3600,\"id\":2267057,\"name\":\"Lisbon\",\"cod\":200}'"
      ]
     },
     "execution_count": 143,
     "metadata": {},
     "output_type": "execute_result"
    }
   ],
   "source": [
    "weather = driver.find_element_by_xpath('/html/body/pre').text\n",
    "weather"
   ]
  },
  {
   "cell_type": "markdown",
   "metadata": {},
   "source": [
    "#### Book name,price and stock availability as a pandas dataframe."
   ]
  },
  {
   "cell_type": "code",
   "execution_count": 144,
   "metadata": {},
   "outputs": [],
   "source": [
    "# This is the url you will scrape in this exercise. \n",
    "# It is a fictional bookstore created to be scraped. \n",
    "url = 'http://books.toscrape.com/'"
   ]
  },
  {
   "cell_type": "code",
   "execution_count": 145,
   "metadata": {},
   "outputs": [],
   "source": [
    "#your code\n",
    "driver=webdriver.Chrome(PATH)\n",
    "driver.get(url)"
   ]
  },
  {
   "cell_type": "code",
   "execution_count": 147,
   "metadata": {},
   "outputs": [],
   "source": [
    "books = [a.get_attribute('h3') for a in driver.find_elements_by_class_name('h3')]"
   ]
  },
  {
   "cell_type": "code",
   "execution_count": 151,
   "metadata": {},
   "outputs": [
    {
     "data": {
      "text/plain": [
       "['A Light in the ...',\n",
       " 'Tipping the Velvet',\n",
       " 'Soumission',\n",
       " 'Sharp Objects',\n",
       " 'Sapiens: A Brief History ...',\n",
       " 'The Requiem Red',\n",
       " 'The Dirty Little Secrets ...',\n",
       " 'The Coming Woman: A ...',\n",
       " 'The Boys in the ...',\n",
       " 'The Black Maria',\n",
       " 'Starving Hearts (Triangular Trade ...',\n",
       " \"Shakespeare's Sonnets\",\n",
       " 'Set Me Free',\n",
       " \"Scott Pilgrim's Precious Little ...\",\n",
       " 'Rip it Up and ...',\n",
       " 'Our Band Could Be ...',\n",
       " 'Olio',\n",
       " 'Mesaerion: The Best Science ...',\n",
       " 'Libertarianism for Beginners',\n",
       " \"It's Only the Himalayas\"]"
      ]
     },
     "execution_count": 151,
     "metadata": {},
     "output_type": "execute_result"
    }
   ],
   "source": [
    "books = [b.text for b in driver.find_elements_by_tag_name('h3')]\n",
    "books"
   ]
  },
  {
   "cell_type": "code",
   "execution_count": 159,
   "metadata": {},
   "outputs": [
    {
     "name": "stdout",
     "output_type": "stream",
     "text": [
      "Requirement already satisfied: unidecode in c:\\users\\ffrei\\appdata\\local\\programs\\python\\python39\\lib\\site-packages (1.2.0)\n"
     ]
    },
    {
     "name": "stderr",
     "output_type": "stream",
     "text": [
      "WARNING: You are using pip version 21.0.1; however, version 21.1.1 is available.\n",
      "You should consider upgrading via the 'c:\\users\\ffrei\\appdata\\local\\programs\\python\\python39\\python.exe -m pip install --upgrade pip' command.\n"
     ]
    }
   ],
   "source": [
    "!pip install unidecode"
   ]
  },
  {
   "cell_type": "code",
   "execution_count": 160,
   "metadata": {},
   "outputs": [],
   "source": [
    "import unidecode"
   ]
  },
  {
   "cell_type": "code",
   "execution_count": 183,
   "metadata": {},
   "outputs": [
    {
     "data": {
      "text/plain": [
       "['£51.77In stock',\n",
       " '£53.74In stock',\n",
       " '£50.10In stock',\n",
       " '£47.82In stock',\n",
       " '£54.23In stock',\n",
       " '£22.65In stock',\n",
       " '£33.34In stock',\n",
       " '£17.93In stock',\n",
       " '£22.60In stock',\n",
       " '£52.15In stock',\n",
       " '£13.99In stock',\n",
       " '£20.66In stock',\n",
       " '£17.46In stock',\n",
       " '£52.29In stock',\n",
       " '£35.02In stock',\n",
       " '£57.25In stock',\n",
       " '£23.88In stock',\n",
       " '£37.59In stock',\n",
       " '£51.33In stock',\n",
       " '£45.17In stock']"
      ]
     },
     "execution_count": 183,
     "metadata": {},
     "output_type": "execute_result"
    }
   ],
   "source": [
    "prices_stock = [p.text.replace('\\nIn','In') for p in driver.find_elements_by_class_name('product_price')]\n",
    "\n",
    "for i in range(len(prices_stock)):\n",
    "    prices_stock[i] = prices_stock[i].split('\\n')[0]\n",
    "prices_stock"
   ]
  },
  {
   "cell_type": "code",
   "execution_count": 195,
   "metadata": {},
   "outputs": [
    {
     "data": {
      "text/plain": [
       "[' stock',\n",
       " ' stock',\n",
       " ' stock',\n",
       " ' stock',\n",
       " ' stock',\n",
       " ' stock',\n",
       " ' stock',\n",
       " ' stock',\n",
       " ' stock',\n",
       " ' stock',\n",
       " ' stock',\n",
       " ' stock',\n",
       " ' stock',\n",
       " ' stock',\n",
       " ' stock',\n",
       " ' stock',\n",
       " ' stock',\n",
       " ' stock',\n",
       " ' stock',\n",
       " ' stock']"
      ]
     },
     "execution_count": 195,
     "metadata": {},
     "output_type": "execute_result"
    }
   ],
   "source": [
    "prices = []\n",
    "stocks = []\n",
    "for e in prices_stock:\n",
    "    prices.append(e.split('In')[0])\n",
    "    stocks.append(e.split('In')[1])"
   ]
  },
  {
   "cell_type": "code",
   "execution_count": 197,
   "metadata": {},
   "outputs": [
    {
     "data": {
      "text/html": [
       "<div>\n",
       "<style scoped>\n",
       "    .dataframe tbody tr th:only-of-type {\n",
       "        vertical-align: middle;\n",
       "    }\n",
       "\n",
       "    .dataframe tbody tr th {\n",
       "        vertical-align: top;\n",
       "    }\n",
       "\n",
       "    .dataframe thead th {\n",
       "        text-align: right;\n",
       "    }\n",
       "</style>\n",
       "<table border=\"1\" class=\"dataframe\">\n",
       "  <thead>\n",
       "    <tr style=\"text-align: right;\">\n",
       "      <th></th>\n",
       "      <th>Books</th>\n",
       "      <th>Prices</th>\n",
       "      <th>Has stock?</th>\n",
       "    </tr>\n",
       "  </thead>\n",
       "  <tbody>\n",
       "    <tr>\n",
       "      <th>0</th>\n",
       "      <td>A Light in the ...</td>\n",
       "      <td>£51.77</td>\n",
       "      <td>stock</td>\n",
       "    </tr>\n",
       "    <tr>\n",
       "      <th>1</th>\n",
       "      <td>Tipping the Velvet</td>\n",
       "      <td>£53.74</td>\n",
       "      <td>stock</td>\n",
       "    </tr>\n",
       "    <tr>\n",
       "      <th>2</th>\n",
       "      <td>Soumission</td>\n",
       "      <td>£50.10</td>\n",
       "      <td>stock</td>\n",
       "    </tr>\n",
       "    <tr>\n",
       "      <th>3</th>\n",
       "      <td>Sharp Objects</td>\n",
       "      <td>£47.82</td>\n",
       "      <td>stock</td>\n",
       "    </tr>\n",
       "    <tr>\n",
       "      <th>4</th>\n",
       "      <td>Sapiens: A Brief History ...</td>\n",
       "      <td>£54.23</td>\n",
       "      <td>stock</td>\n",
       "    </tr>\n",
       "  </tbody>\n",
       "</table>\n",
       "</div>"
      ],
      "text/plain": [
       "                          Books  Prices Has stock?\n",
       "0            A Light in the ...  £51.77      stock\n",
       "1            Tipping the Velvet  £53.74      stock\n",
       "2                    Soumission  £50.10      stock\n",
       "3                 Sharp Objects  £47.82      stock\n",
       "4  Sapiens: A Brief History ...  £54.23      stock"
      ]
     },
     "execution_count": 197,
     "metadata": {},
     "output_type": "execute_result"
    }
   ],
   "source": [
    "dbooks=pd.DataFrame()\n",
    "dbooks['Books'] = books\n",
    "dbooks['Prices'] = prices\n",
    "dbooks['Has stock?'] = stocks\n",
    "dbooks.head(5)"
   ]
  },
  {
   "cell_type": "code",
   "execution_count": null,
   "metadata": {},
   "outputs": [],
   "source": []
  }
 ],
 "metadata": {
  "kernelspec": {
   "display_name": "Python 3",
   "language": "python",
   "name": "python3"
  },
  "language_info": {
   "codemirror_mode": {
    "name": "ipython",
    "version": 3
   },
   "file_extension": ".py",
   "mimetype": "text/x-python",
   "name": "python",
   "nbconvert_exporter": "python",
   "pygments_lexer": "ipython3",
   "version": "3.9.2"
  }
 },
 "nbformat": 4,
 "nbformat_minor": 2
}
