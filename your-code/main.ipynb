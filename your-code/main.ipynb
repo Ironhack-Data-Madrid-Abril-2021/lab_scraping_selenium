{
 "cells": [
  {
   "cell_type": "markdown",
   "metadata": {},
   "source": [
    "# Web Scraping Lab\n",
    "\n",
    "You will find in this notebook some scrapy exercises to practise your scraping skills.\n",
    "\n",
    "**Tips:**\n",
    "\n",
    "- Check the response status code for each request to ensure you have obtained the intended contennt.\n",
    "- Print the response text in each request to understand the kind of info you are getting and its format.\n",
    "- Check for patterns in the response text to extract the data/info requested in each question.\n",
    "- Visit each url and take a look at its source through Chrome DevTools. You'll need to identify the html tags, special class names etc. used for the html content you are expected to extract."
   ]
  },
  {
   "cell_type": "markdown",
   "metadata": {},
   "source": [
    "- [Requests library](http://docs.python-requests.org/en/master/#the-user-guide) documentation \n",
    "- [Beautiful Soup Doc](https://www.crummy.com/software/BeautifulSoup/bs4/doc/)\n",
    "- [Urllib](https://docs.python.org/3/library/urllib.html#module-urllib)\n",
    "- [re lib](https://docs.python.org/3/library/re.html)\n",
    "- [lxml lib](https://lxml.de/)\n",
    "- [Scrapy](https://scrapy.org/)\n",
    "- [List of HTTP status codes](https://en.wikipedia.org/wiki/List_of_HTTP_status_codes)\n",
    "- [HTML basics](http://www.simplehtmlguide.com/cheatsheet.php)\n",
    "- [CSS basics](https://www.cssbasics.com/#page_start)"
   ]
  },
  {
   "cell_type": "markdown",
   "metadata": {},
   "source": [
    "#### Below are the libraries and modules you may need. `requests`,  `BeautifulSoup` and `pandas` are imported for you. If you prefer to use additional libraries feel free to uncomment them."
   ]
  },
  {
   "cell_type": "code",
   "execution_count": 1,
   "metadata": {},
   "outputs": [
    {
     "name": "stdout",
     "output_type": "stream",
     "text": [
      "Requirement already satisfied: selenium in c:\\users\\ffrei\\appdata\\local\\programs\\python\\python39\\lib\\site-packages (3.141.0)\n",
      "Requirement already satisfied: urllib3 in c:\\users\\ffrei\\appdata\\local\\programs\\python\\python39\\lib\\site-packages (from selenium) (1.26.4)\n"
     ]
    },
    {
     "name": "stderr",
     "output_type": "stream",
     "text": [
      "WARNING: You are using pip version 21.0.1; however, version 21.1.1 is available.\n",
      "You should consider upgrading via the 'c:\\users\\ffrei\\appdata\\local\\programs\\python\\python39\\python.exe -m pip install --upgrade pip' command.\n"
     ]
    }
   ],
   "source": [
    "!pip install selenium"
   ]
  },
  {
   "cell_type": "code",
   "execution_count": 2,
   "metadata": {},
   "outputs": [],
   "source": [
    "from selenium import webdriver\n",
    "import requests\n",
    "import pandas as pd\n",
    "# from pprint import pprint\n",
    "# from lxml import html\n",
    "# from lxml.html import fromstring\n",
    "# import urllib.request\n",
    "# from urllib.request import urlopen\n",
    "# import random\n",
    "# import re\n",
    "# import scrapy"
   ]
  },
  {
   "cell_type": "code",
   "execution_count": 3,
   "metadata": {},
   "outputs": [],
   "source": [
    "PATH='chromedriver.exe'"
   ]
  },
  {
   "cell_type": "markdown",
   "metadata": {},
   "source": [
    "#### Print the content from the Trending Developers page from GitHub:"
   ]
  },
  {
   "cell_type": "markdown",
   "metadata": {},
   "source": [
    "#### Display the names of the trending developers retrieved in the previous step.\n",
    "\n",
    "Your output should be a Python list of developer names. Each name should not contain any html tag.\n",
    "\n",
    "**Instructions:**\n",
    "\n",
    "1. Find out the html tag and class names used for the developer names. You can achieve this using Chrome DevTools.\n",
    "\n",
    "1. Use BeautifulSoup to extract all the html elements that contain the developer names.\n",
    "\n",
    "1. Use string manipulation techniques to replace whitespaces and linebreaks (i.e. `\\n`) in the *text* of each html element. Use a list to store the clean names.\n",
    "\n",
    "1. Print the list of names.\n",
    "\n",
    "Your output should look like below:\n",
    "\n",
    "```\n",
    "['trimstray (@trimstray)',\n",
    " 'joewalnes (JoeWalnes)',\n",
    " 'charlax (Charles-AxelDein)',\n",
    " 'ForrestKnight (ForrestKnight)',\n",
    " 'revery-ui (revery-ui)',\n",
    " 'alibaba (Alibaba)',\n",
    " 'Microsoft (Microsoft)',\n",
    " 'github (GitHub)',\n",
    " 'facebook (Facebook)',\n",
    " 'boazsegev (Bo)',\n",
    " 'google (Google)',\n",
    " 'cloudfetch',\n",
    " 'sindresorhus (SindreSorhus)',\n",
    " 'tensorflow',\n",
    " 'apache (TheApacheSoftwareFoundation)',\n",
    " 'DevonCrawford (DevonCrawford)',\n",
    " 'ARMmbed (ArmMbed)',\n",
    " 'vuejs (vuejs)',\n",
    " 'fastai (fast.ai)',\n",
    " 'QiShaoXuan (Qi)',\n",
    " 'joelparkerhenderson (JoelParkerHenderson)',\n",
    " 'torvalds (LinusTorvalds)',\n",
    " 'CyC2018',\n",
    " 'komeiji-satori (神楽坂覚々)',\n",
    " 'script-8']\n",
    " ```"
   ]
  },
  {
   "cell_type": "code",
   "execution_count": 4,
   "metadata": {},
   "outputs": [],
   "source": [
    "# This is the url you will scrape in this exercise\n",
    "url = 'https://github.com/trending/developers'"
   ]
  },
  {
   "cell_type": "code",
   "execution_count": 5,
   "metadata": {},
   "outputs": [],
   "source": [
    "#your code\n",
    "\n",
    "driver=webdriver.Chrome(PATH)\n",
    "driver.get(url)"
   ]
  },
  {
   "cell_type": "code",
   "execution_count": 6,
   "metadata": {},
   "outputs": [
    {
     "data": {
      "text/plain": [
       "['Stephan Dilly',\n",
       " 'Miek Gieben',\n",
       " 'Kyle Altendorf',\n",
       " 'Rafał Mikrut',\n",
       " 'Wei Wang',\n",
       " 'Peter Bourgon',\n",
       " 'CrazyMax',\n",
       " 'Ibrahim Serdar Acikgoz',\n",
       " 'Kishikawa Katsumi',\n",
       " 'Will McGugan',\n",
       " 'Mladen Macanović',\n",
       " 'Andrey Sitnik',\n",
       " 'Fatih Arslan',\n",
       " 'Anthony Fu',\n",
       " 'Martin Atkins',\n",
       " 'Michael Waskom',\n",
       " 'Jaco',\n",
       " 'Thomas Steiner',\n",
       " 'Emil Ernerfeldt',\n",
       " 'Yusuke Kuoka',\n",
       " 'Nicolas Grekas',\n",
       " 'LoveSy',\n",
       " 'Martin Fleischmann',\n",
       " 'Jake Vanderplas',\n",
       " 'chencheng (云谦)']"
      ]
     },
     "execution_count": 6,
     "metadata": {},
     "output_type": "execute_result"
    }
   ],
   "source": [
    "names = [a.text for a in driver.find_elements_by_class_name('h3.lh-condensed')]\n",
    "\n",
    "names"
   ]
  },
  {
   "cell_type": "code",
   "execution_count": 7,
   "metadata": {},
   "outputs": [
    {
     "data": {
      "text/plain": [
       "['extrawurst',\n",
       " 'miekg',\n",
       " 'altendky',\n",
       " 'qarmin',\n",
       " 'onevcat',\n",
       " 'peterbourgon',\n",
       " 'crazy-max',\n",
       " 'isacikgoz',\n",
       " 'kishikawakatsumi',\n",
       " 'willmcgugan',\n",
       " 'stsrki',\n",
       " 'ai',\n",
       " 'fatih',\n",
       " 'antfu',\n",
       " 'apparentlymart',\n",
       " 'mwaskom',\n",
       " 'jacogr',\n",
       " 'tomayac',\n",
       " 'emilk',\n",
       " 'mumoshu',\n",
       " 'nicolas-grekas',\n",
       " 'yujincheng08',\n",
       " 'martinfleis',\n",
       " 'jakevdp',\n",
       " 'sorrycc']"
      ]
     },
     "execution_count": 7,
     "metadata": {},
     "output_type": "execute_result"
    }
   ],
   "source": [
    "nicknames = [b.text for b in driver.find_elements_by_class_name('f4.text-normal.mb-1')]\n",
    "nicknames"
   ]
  },
  {
   "cell_type": "code",
   "execution_count": 15,
   "metadata": {},
   "outputs": [
    {
     "name": "stdout",
     "output_type": "stream",
     "text": [
      "['Stephan Dilly (extrawurst)', 'Miek Gieben (miekg)', 'Kyle Altendorf (altendky)', 'Rafał Mikrut (qarmin)', 'Wei Wang (onevcat)', 'Peter Bourgon (peterbourgon)', 'CrazyMax (crazy-max)', 'Ibrahim Serdar Acikgoz (isacikgoz)', 'Kishikawa Katsumi (kishikawakatsumi)', 'Will McGugan (willmcgugan)', 'Mladen Macanović (stsrki)', 'Andrey Sitnik (ai)', 'Fatih Arslan (fatih)', 'Anthony Fu (antfu)', 'Martin Atkins (apparentlymart)', 'Michael Waskom (mwaskom)', 'Jaco (jacogr)', 'Thomas Steiner (tomayac)', 'Emil Ernerfeldt (emilk)', 'Yusuke Kuoka (mumoshu)', 'Nicolas Grekas (nicolas-grekas)', 'LoveSy (yujincheng08)', 'Martin Fleischmann (martinfleis)', 'Jake Vanderplas (jakevdp)', 'chencheng (云谦) (sorrycc)']\n"
     ]
    }
   ],
   "source": [
    "res=[]\n",
    "\n",
    "for i in range(len(names)):\n",
    "    \n",
    "    element = names[i]+ ' (' + nicknames[i]+ ')'\n",
    "    res.append(element)\n",
    "print(res)"
   ]
  },
  {
   "cell_type": "markdown",
   "metadata": {},
   "source": [
    "#### Display the trending Python repositories in GitHub\n",
    "\n",
    "The steps to solve this problem is similar to the previous one except that you need to find out the repository names instead of developer names."
   ]
  },
  {
   "cell_type": "code",
   "execution_count": 16,
   "metadata": {},
   "outputs": [],
   "source": [
    "# This is the url you will scrape in this exercise\n",
    "url = 'https://github.com/trending/python?since=daily'"
   ]
  },
  {
   "cell_type": "code",
   "execution_count": 17,
   "metadata": {},
   "outputs": [],
   "source": [
    "#your code\n",
    "driver=webdriver.Chrome(PATH)\n",
    "driver.get(url)"
   ]
  },
  {
   "cell_type": "code",
   "execution_count": 18,
   "metadata": {},
   "outputs": [
    {
     "data": {
      "text/plain": [
       "['CyberPunkMetalHead / Binance-volatility-trading-bot',\n",
       " 'gto76 / python-cheatsheet',\n",
       " 'PaddlePaddle / PaddleDetection',\n",
       " 'CovidTrackerFr / vitemadose',\n",
       " 'home-assistant / core',\n",
       " 'Chia-Network / chia-blockchain',\n",
       " 'ericaltendorf / plotman',\n",
       " 'wagtail / wagtail',\n",
       " '0xAX / linux-insides',\n",
       " 'huggingface / transformers',\n",
       " 'beurtschipper / Depix',\n",
       " 'PeizhuoLi / neural-blend-shapes',\n",
       " 'OlafenwaMoses / DeepStack_ExDark',\n",
       " 'lucidrains / res-mlp-pytorch',\n",
       " 'edeng23 / binance-trade-bot',\n",
       " 'sherlock-project / sherlock',\n",
       " 'aliparlakci / bulk-downloader-for-reddit',\n",
       " 'OctoPrint / OctoPrint',\n",
       " '649453932 / Chinese-Text-Classification-Pytorch',\n",
       " 'loglabs / mltrace',\n",
       " 'PaddlePaddle / PaddleOCR',\n",
       " 'PaddlePaddle / PaddleGAN',\n",
       " 'deepinsight / insightface',\n",
       " 'swar / Swar-Chia-Plot-Manager',\n",
       " 'STVIR / pysot']"
      ]
     },
     "execution_count": 18,
     "metadata": {},
     "output_type": "execute_result"
    }
   ],
   "source": [
    "repos = [c.text for c in driver.find_elements_by_class_name('h3.lh-condensed')]\n",
    "repos"
   ]
  },
  {
   "cell_type": "markdown",
   "metadata": {},
   "source": [
    "#### Display all the image links from Walt Disney wikipedia page"
   ]
  },
  {
   "cell_type": "code",
   "execution_count": 19,
   "metadata": {},
   "outputs": [],
   "source": [
    "# This is the url you will scrape in this exercise\n",
    "url = 'https://en.wikipedia.org/wiki/Walt_Disney'"
   ]
  },
  {
   "cell_type": "code",
   "execution_count": 20,
   "metadata": {},
   "outputs": [],
   "source": [
    "#your code\n",
    "driver=webdriver.Chrome(PATH)\n",
    "driver.get(url)"
   ]
  },
  {
   "cell_type": "code",
   "execution_count": 32,
   "metadata": {},
   "outputs": [
    {
     "data": {
      "text/plain": [
       "['https://upload.wikimedia.org/wikipedia/foundation/2/20/CloseWindow19x19.png',\n",
       " 'https://upload.wikimedia.org/wikipedia/donate/thumb/b/b6/WLE_Austria_Logo_%28no_text%29_local.svg/50px-WLE_Austria_Logo_%28no_text%29_local.svg.png',\n",
       " 'https://upload.wikimedia.org/wikipedia/en/thumb/e/e7/Cscr-featured.svg/20px-Cscr-featured.svg.png',\n",
       " 'https://upload.wikimedia.org/wikipedia/en/thumb/8/8c/Extended-protection-shackle.svg/20px-Extended-protection-shackle.svg.png',\n",
       " 'https://upload.wikimedia.org/wikipedia/commons/thumb/d/df/Walt_Disney_1946.JPG/220px-Walt_Disney_1946.JPG',\n",
       " 'https://upload.wikimedia.org/wikipedia/commons/thumb/8/87/Walt_Disney_1942_signature.svg/150px-Walt_Disney_1942_signature.svg.png',\n",
       " 'https://upload.wikimedia.org/wikipedia/commons/thumb/c/c4/Walt_Disney_envelope_ca._1921.jpg/220px-Walt_Disney_envelope_ca._1921.jpg',\n",
       " 'https://upload.wikimedia.org/wikipedia/commons/thumb/4/4d/Newman_Laugh-O-Gram_%281921%29.webm/220px-seek%3D2-Newman_Laugh-O-Gram_%281921%29.webm.jpg',\n",
       " 'https://upload.wikimedia.org/wikipedia/commons/thumb/0/0d/Trolley_Troubles_poster.jpg/170px-Trolley_Troubles_poster.jpg',\n",
       " 'https://upload.wikimedia.org/wikipedia/en/thumb/4/4e/Steamboat-willie.jpg/170px-Steamboat-willie.jpg',\n",
       " 'https://upload.wikimedia.org/wikipedia/commons/thumb/5/57/Walt_Disney_1935.jpg/170px-Walt_Disney_1935.jpg',\n",
       " 'https://upload.wikimedia.org/wikipedia/commons/thumb/c/cd/Walt_Disney_Snow_white_1937_trailer_screenshot_%2813%29.jpg/220px-Walt_Disney_Snow_white_1937_trailer_screenshot_%2813%29.jpg',\n",
       " 'https://upload.wikimedia.org/wikipedia/commons/thumb/1/15/Disney_drawing_goofy.jpg/170px-Disney_drawing_goofy.jpg',\n",
       " 'https://upload.wikimedia.org/wikipedia/commons/thumb/1/13/DisneySchiphol1951.jpg/220px-DisneySchiphol1951.jpg',\n",
       " 'https://upload.wikimedia.org/wikipedia/commons/thumb/8/8c/WaltDisneyplansDisneylandDec1954.jpg/220px-WaltDisneyplansDisneylandDec1954.jpg',\n",
       " 'https://upload.wikimedia.org/wikipedia/commons/thumb/f/ff/Walt_disney_portrait_right.jpg/170px-Walt_disney_portrait_right.jpg',\n",
       " 'https://upload.wikimedia.org/wikipedia/commons/thumb/1/1a/Walt_Disney_Grave.JPG/170px-Walt_Disney_Grave.JPG',\n",
       " 'https://upload.wikimedia.org/wikipedia/commons/thumb/2/2d/Roy_O._Disney_with_Company_at_Press_Conference.jpg/170px-Roy_O._Disney_with_Company_at_Press_Conference.jpg',\n",
       " 'https://upload.wikimedia.org/wikipedia/commons/thumb/a/a9/Disney_Display_Case.JPG/170px-Disney_Display_Case.JPG',\n",
       " 'https://upload.wikimedia.org/wikipedia/commons/thumb/6/6c/Disney1968.jpg/170px-Disney1968.jpg',\n",
       " 'https://upload.wikimedia.org/wikipedia/en/thumb/8/8a/OOjs_UI_icon_edit-ltr-progressive.svg/10px-OOjs_UI_icon_edit-ltr-progressive.svg.png',\n",
       " 'https://upload.wikimedia.org/wikipedia/commons/thumb/e/e3/Disneyland_Resort_logo.svg/135px-Disneyland_Resort_logo.svg.png',\n",
       " 'https://upload.wikimedia.org/wikipedia/commons/thumb/d/da/Animation_disc.svg/30px-Animation_disc.svg.png',\n",
       " 'https://upload.wikimedia.org/wikipedia/en/thumb/6/69/P_vip.svg/29px-P_vip.svg.png',\n",
       " 'https://upload.wikimedia.org/wikipedia/commons/thumb/1/1a/Magic_Kingdom_castle.jpg/24px-Magic_Kingdom_castle.jpg',\n",
       " 'https://upload.wikimedia.org/wikipedia/en/thumb/e/e7/Video-x-generic.svg/30px-Video-x-generic.svg.png',\n",
       " 'https://upload.wikimedia.org/wikipedia/commons/thumb/a/a3/Flag_of_Los_Angeles_County%2C_California.svg/30px-Flag_of_Los_Angeles_County%2C_California.svg.png',\n",
       " 'https://upload.wikimedia.org/wikipedia/commons/thumb/8/8c/Blank_television_set.svg/30px-Blank_television_set.svg.png',\n",
       " 'https://upload.wikimedia.org/wikipedia/en/thumb/a/a4/Flag_of_the_United_States.svg/30px-Flag_of_the_United_States.svg.png',\n",
       " 'https://upload.wikimedia.org/wikipedia/en/thumb/4/4a/Commons-logo.svg/22px-Commons-logo.svg.png',\n",
       " 'https://upload.wikimedia.org/wikipedia/commons/thumb/f/fa/Wikiquote-logo.svg/25px-Wikiquote-logo.svg.png',\n",
       " 'https://upload.wikimedia.org/wikipedia/commons/thumb/f/ff/Wikidata-logo.svg/30px-Wikidata-logo.svg.png',\n",
       " 'https://upload.wikimedia.org/wikipedia/en/thumb/8/8a/OOjs_UI_icon_edit-ltr-progressive.svg/10px-OOjs_UI_icon_edit-ltr-progressive.svg.png',\n",
       " 'https://en.wikipedia.org/static/images/footer/wikimedia-button.png',\n",
       " 'https://en.wikipedia.org/static/images/footer/poweredby_mediawiki_88x31.png']"
      ]
     },
     "execution_count": 32,
     "metadata": {},
     "output_type": "execute_result"
    }
   ],
   "source": [
    "[a.get_attribute('src') for a in driver.find_elements_by_tag_name('img')]"
   ]
  },
  {
   "cell_type": "markdown",
   "metadata": {},
   "source": [
    "#### Retrieve an arbitary Wikipedia page of \"Python\" and create a list of links on that page"
   ]
  },
  {
   "cell_type": "code",
   "execution_count": 33,
   "metadata": {},
   "outputs": [],
   "source": [
    "# This is the url you will scrape in this exercise\n",
    "url ='https://en.wikipedia.org/wiki/Python'"
   ]
  },
  {
   "cell_type": "code",
   "execution_count": 34,
   "metadata": {},
   "outputs": [],
   "source": [
    "#your code\n",
    "driver=webdriver.Chrome(PATH)\n",
    "driver.get(url)"
   ]
  },
  {
   "cell_type": "code",
   "execution_count": 37,
   "metadata": {},
   "outputs": [
    {
     "data": {
      "text/plain": [
       "[None,\n",
       " 'https://en.wikipedia.org/wiki/Python#',\n",
       " 'https://www.wikilov.es/es/Wiki_Loves_Earth',\n",
       " 'https://www.wikilov.es/es/Wiki_Loves_Earth',\n",
       " 'https://en.wikipedia.org/wiki/Python#mw-head',\n",
       " 'https://en.wikipedia.org/wiki/Python#searchInput',\n",
       " 'https://en.wiktionary.org/wiki/Python',\n",
       " 'https://en.wiktionary.org/wiki/python',\n",
       " 'https://en.wikipedia.org/wiki/Pythons',\n",
       " 'https://en.wikipedia.org/wiki/Python_(genus)',\n",
       " 'https://en.wikipedia.org/wiki/Python#Computing',\n",
       " 'https://en.wikipedia.org/wiki/Python#People',\n",
       " 'https://en.wikipedia.org/wiki/Python#Roller_coasters',\n",
       " 'https://en.wikipedia.org/wiki/Python#Vehicles',\n",
       " 'https://en.wikipedia.org/wiki/Python#Weaponry',\n",
       " 'https://en.wikipedia.org/wiki/Python#Other_uses',\n",
       " 'https://en.wikipedia.org/wiki/Python#See_also',\n",
       " 'https://en.wikipedia.org/w/index.php?title=Python&action=edit&section=1&editintro=Template:Disambig_editintro',\n",
       " 'https://en.wikipedia.org/wiki/Python_(programming_language)',\n",
       " 'https://en.wikipedia.org/wiki/CMU_Common_Lisp',\n",
       " 'https://en.wikipedia.org/wiki/PERQ#PERQ_3',\n",
       " 'https://en.wikipedia.org/w/index.php?title=Python&action=edit&section=2&editintro=Template:Disambig_editintro',\n",
       " 'https://en.wikipedia.org/wiki/Python_of_Aenus',\n",
       " 'https://en.wikipedia.org/wiki/Python_(painter)',\n",
       " 'https://en.wikipedia.org/wiki/Python_of_Byzantium',\n",
       " 'https://en.wikipedia.org/wiki/Python_of_Catana',\n",
       " 'https://en.wikipedia.org/wiki/Python_Anghelo',\n",
       " 'https://en.wikipedia.org/w/index.php?title=Python&action=edit&section=3&editintro=Template:Disambig_editintro',\n",
       " 'https://en.wikipedia.org/wiki/Python_(Efteling)',\n",
       " 'https://en.wikipedia.org/wiki/Python_(Busch_Gardens_Tampa_Bay)',\n",
       " 'https://en.wikipedia.org/wiki/Python_(Coney_Island,_Cincinnati,_Ohio)',\n",
       " 'https://en.wikipedia.org/w/index.php?title=Python&action=edit&section=4&editintro=Template:Disambig_editintro',\n",
       " 'https://en.wikipedia.org/wiki/Python_(automobile_maker)',\n",
       " 'https://en.wikipedia.org/wiki/Python_(Ford_prototype)',\n",
       " 'https://en.wikipedia.org/w/index.php?title=Python&action=edit&section=5&editintro=Template:Disambig_editintro',\n",
       " 'https://en.wikipedia.org/wiki/Python_(missile)',\n",
       " 'https://en.wikipedia.org/wiki/Python_(nuclear_primary)',\n",
       " 'https://en.wikipedia.org/wiki/Colt_Python',\n",
       " 'https://en.wikipedia.org/w/index.php?title=Python&action=edit&section=6&editintro=Template:Disambig_editintro',\n",
       " 'https://en.wikipedia.org/wiki/PYTHON',\n",
       " 'https://en.wikipedia.org/wiki/Python_(film)',\n",
       " 'https://en.wikipedia.org/wiki/Python_(mythology)',\n",
       " 'https://en.wikipedia.org/wiki/Monty_Python',\n",
       " 'https://en.wikipedia.org/wiki/Python_(Monty)_Pictures',\n",
       " 'https://en.wikipedia.org/w/index.php?title=Python&action=edit&section=7&editintro=Template:Disambig_editintro',\n",
       " 'https://en.wikipedia.org/wiki/Cython',\n",
       " 'https://en.wikipedia.org/wiki/Pyton',\n",
       " 'https://en.wikipedia.org/wiki/Pithon',\n",
       " 'https://en.wikipedia.org/wiki/File:Disambig_gray.svg',\n",
       " 'https://en.wikipedia.org/wiki/Help:Disambiguation',\n",
       " 'https://en.wikipedia.org/w/index.php?title=Special:WhatLinksHere/Python&namespace=0',\n",
       " 'https://en.wikipedia.org/w/index.php?title=Python&oldid=997582414',\n",
       " 'https://en.wikipedia.org/wiki/Help:Category',\n",
       " 'https://en.wikipedia.org/wiki/Category:Disambiguation_pages',\n",
       " 'https://en.wikipedia.org/wiki/Category:Human_name_disambiguation_pages',\n",
       " 'https://en.wikipedia.org/wiki/Category:Disambiguation_pages_with_given-name-holder_lists',\n",
       " 'https://en.wikipedia.org/wiki/Category:Disambiguation_pages_with_short_descriptions',\n",
       " 'https://en.wikipedia.org/wiki/Category:Short_description_is_different_from_Wikidata',\n",
       " 'https://en.wikipedia.org/wiki/Category:All_article_disambiguation_pages',\n",
       " 'https://en.wikipedia.org/wiki/Category:All_disambiguation_pages',\n",
       " 'https://en.wikipedia.org/wiki/Category:Animal_common_name_disambiguation_pages',\n",
       " 'https://en.wikipedia.org/wiki/Special:MyTalk',\n",
       " 'https://en.wikipedia.org/wiki/Special:MyContributions',\n",
       " 'https://en.wikipedia.org/w/index.php?title=Special:CreateAccount&returnto=Python',\n",
       " 'https://en.wikipedia.org/w/index.php?title=Special:UserLogin&returnto=Python',\n",
       " 'https://en.wikipedia.org/wiki/Python',\n",
       " 'https://en.wikipedia.org/wiki/Talk:Python',\n",
       " 'https://en.wikipedia.org/wiki/Python',\n",
       " 'https://en.wikipedia.org/w/index.php?title=Python&action=edit&editintro=Template:Disambig_editintro',\n",
       " 'https://en.wikipedia.org/w/index.php?title=Python&action=history',\n",
       " 'https://en.wikipedia.org/wiki/Main_Page',\n",
       " 'https://en.wikipedia.org/wiki/Main_Page',\n",
       " 'https://en.wikipedia.org/wiki/Wikipedia:Contents',\n",
       " 'https://en.wikipedia.org/wiki/Portal:Current_events',\n",
       " 'https://en.wikipedia.org/wiki/Special:Random',\n",
       " 'https://en.wikipedia.org/wiki/Wikipedia:About',\n",
       " 'https://en.wikipedia.org/wiki/Wikipedia:Contact_us',\n",
       " 'https://donate.wikimedia.org/wiki/Special:FundraiserRedirector?utm_source=donate&utm_medium=sidebar&utm_campaign=C13_en.wikipedia.org&uselang=en',\n",
       " 'https://en.wikipedia.org/wiki/Help:Contents',\n",
       " 'https://en.wikipedia.org/wiki/Help:Introduction',\n",
       " 'https://en.wikipedia.org/wiki/Wikipedia:Community_portal',\n",
       " 'https://en.wikipedia.org/wiki/Special:RecentChanges',\n",
       " 'https://en.wikipedia.org/wiki/Wikipedia:File_Upload_Wizard',\n",
       " 'https://en.wikipedia.org/wiki/Special:WhatLinksHere/Python',\n",
       " 'https://en.wikipedia.org/wiki/Special:RecentChangesLinked/Python',\n",
       " 'https://en.wikipedia.org/wiki/Wikipedia:File_Upload_Wizard',\n",
       " 'https://en.wikipedia.org/wiki/Special:SpecialPages',\n",
       " 'https://en.wikipedia.org/w/index.php?title=Python&oldid=997582414',\n",
       " 'https://en.wikipedia.org/w/index.php?title=Python&action=info',\n",
       " 'https://en.wikipedia.org/w/index.php?title=Special:CiteThisPage&page=Python&id=997582414&wpFormIdentifier=titleform',\n",
       " 'https://www.wikidata.org/wiki/Special:EntityPage/Q747452',\n",
       " 'https://en.wikipedia.org/w/index.php?title=Special:DownloadAsPdf&page=Python&action=show-download-screen',\n",
       " 'https://en.wikipedia.org/w/index.php?title=Python&printable=yes',\n",
       " 'https://commons.wikimedia.org/wiki/Category:Python',\n",
       " 'https://af.wikipedia.org/wiki/Python',\n",
       " 'https://als.wikipedia.org/wiki/Python',\n",
       " 'https://ar.wikipedia.org/wiki/%D8%A8%D8%A7%D9%8A%D8%AB%D9%88%D9%86_(%D8%AA%D9%88%D8%B6%D9%8A%D8%AD)',\n",
       " 'https://az.wikipedia.org/wiki/Python',\n",
       " 'https://bn.wikipedia.org/wiki/%E0%A6%AA%E0%A6%BE%E0%A6%87%E0%A6%A5%E0%A6%A8_(%E0%A6%A6%E0%A7%8D%E0%A6%AC%E0%A7%8D%E0%A6%AF%E0%A6%B0%E0%A7%8D%E0%A6%A5%E0%A6%A4%E0%A6%BE_%E0%A6%A8%E0%A6%BF%E0%A6%B0%E0%A6%B8%E0%A6%A8)',\n",
       " 'https://be.wikipedia.org/wiki/Python',\n",
       " 'https://bg.wikipedia.org/wiki/%D0%9F%D0%B8%D1%82%D0%BE%D0%BD_(%D0%BF%D0%BE%D1%8F%D1%81%D0%BD%D0%B5%D0%BD%D0%B8%D0%B5)',\n",
       " 'https://cs.wikipedia.org/wiki/Python_(rozcestn%C3%ADk)',\n",
       " 'https://da.wikipedia.org/wiki/Python',\n",
       " 'https://de.wikipedia.org/wiki/Python',\n",
       " 'https://eo.wikipedia.org/wiki/Pitono_(apartigilo)',\n",
       " 'https://eu.wikipedia.org/wiki/Python_(argipena)',\n",
       " 'https://fa.wikipedia.org/wiki/%D9%BE%D8%A7%DB%8C%D8%AA%D9%88%D9%86',\n",
       " 'https://fr.wikipedia.org/wiki/Python',\n",
       " 'https://ko.wikipedia.org/wiki/%ED%8C%8C%EC%9D%B4%EC%84%A0',\n",
       " 'https://hr.wikipedia.org/wiki/Python_(razdvojba)',\n",
       " 'https://io.wikipedia.org/wiki/Pitono',\n",
       " 'https://id.wikipedia.org/wiki/Python',\n",
       " 'https://ia.wikipedia.org/wiki/Python_(disambiguation)',\n",
       " 'https://is.wikipedia.org/wiki/Python_(a%C3%B0greining)',\n",
       " 'https://it.wikipedia.org/wiki/Python_(disambigua)',\n",
       " 'https://he.wikipedia.org/wiki/%D7%A4%D7%99%D7%AA%D7%95%D7%9F',\n",
       " 'https://ka.wikipedia.org/wiki/%E1%83%9E%E1%83%98%E1%83%97%E1%83%9D%E1%83%9C%E1%83%98_(%E1%83%9B%E1%83%A0%E1%83%90%E1%83%95%E1%83%90%E1%83%9A%E1%83%9B%E1%83%9C%E1%83%98%E1%83%A8%E1%83%95%E1%83%9C%E1%83%94%E1%83%9A%E1%83%9D%E1%83%95%E1%83%90%E1%83%9C%E1%83%98)',\n",
       " 'https://kg.wikipedia.org/wiki/Mboma_(nyoka)',\n",
       " 'https://la.wikipedia.org/wiki/Python_(discretiva)',\n",
       " 'https://lb.wikipedia.org/wiki/Python',\n",
       " 'https://hu.wikipedia.org/wiki/Python_(egy%C3%A9rtelm%C5%B1s%C3%ADt%C5%91_lap)',\n",
       " 'https://mr.wikipedia.org/wiki/%E0%A4%AA%E0%A4%BE%E0%A4%AF%E0%A4%A5%E0%A5%89%E0%A4%A8_(%E0%A4%86%E0%A4%9C%E0%A5%8D%E0%A4%9E%E0%A4%BE%E0%A4%B5%E0%A4%B2%E0%A5%80_%E0%A4%AD%E0%A4%BE%E0%A4%B7%E0%A4%BE)',\n",
       " 'https://nl.wikipedia.org/wiki/Python',\n",
       " 'https://ja.wikipedia.org/wiki/%E3%83%91%E3%82%A4%E3%82%BD%E3%83%B3',\n",
       " 'https://no.wikipedia.org/wiki/Pyton',\n",
       " 'https://pl.wikipedia.org/wiki/Pyton',\n",
       " 'https://pt.wikipedia.org/wiki/Python_(desambigua%C3%A7%C3%A3o)',\n",
       " 'https://ru.wikipedia.org/wiki/Python_(%D0%B7%D0%BD%D0%B0%D1%87%D0%B5%D0%BD%D0%B8%D1%8F)',\n",
       " 'https://sk.wikipedia.org/wiki/Python',\n",
       " 'https://sr.wikipedia.org/wiki/%D0%9F%D0%B8%D1%82%D0%BE%D0%BD_(%D0%B2%D0%B8%D1%88%D0%B5%D0%B7%D0%BD%D0%B0%D1%87%D0%BD%D0%B0_%D0%BE%D0%B4%D1%80%D0%B5%D0%B4%D0%BD%D0%B8%D1%86%D0%B0)',\n",
       " 'https://sh.wikipedia.org/wiki/Python',\n",
       " 'https://fi.wikipedia.org/wiki/Python',\n",
       " 'https://sv.wikipedia.org/wiki/Pyton',\n",
       " 'https://th.wikipedia.org/wiki/%E0%B9%84%E0%B8%9E%E0%B8%97%E0%B8%AD%E0%B8%99',\n",
       " 'https://tr.wikipedia.org/wiki/Python',\n",
       " 'https://uk.wikipedia.org/wiki/%D0%9F%D1%96%D1%84%D0%BE%D0%BD',\n",
       " 'https://ur.wikipedia.org/wiki/%D9%BE%D8%A7%D8%A6%DB%8C%D8%AA%DA%BE%D9%88%D9%86',\n",
       " 'https://vi.wikipedia.org/wiki/Python',\n",
       " 'https://zh.wikipedia.org/wiki/Python_(%E6%B6%88%E6%AD%A7%E4%B9%89)',\n",
       " 'https://www.wikidata.org/wiki/Special:EntityPage/Q747452#sitelinks-wikipedia',\n",
       " 'https://en.wikipedia.org/wiki/Wikipedia:Text_of_Creative_Commons_Attribution-ShareAlike_3.0_Unported_License',\n",
       " 'https://creativecommons.org/licenses/by-sa/3.0/',\n",
       " 'https://foundation.wikimedia.org/wiki/Terms_of_Use',\n",
       " 'https://foundation.wikimedia.org/wiki/Privacy_policy',\n",
       " 'https://www.wikimediafoundation.org/',\n",
       " 'https://foundation.wikimedia.org/wiki/Privacy_policy',\n",
       " 'https://en.wikipedia.org/wiki/Wikipedia:About',\n",
       " 'https://en.wikipedia.org/wiki/Wikipedia:General_disclaimer',\n",
       " 'https://en.wikipedia.org/wiki/Wikipedia:Contact_us',\n",
       " 'https://en.m.wikipedia.org/w/index.php?title=Python&mobileaction=toggle_view_mobile',\n",
       " 'https://www.mediawiki.org/wiki/Special:MyLanguage/How_to_contribute',\n",
       " 'https://stats.wikimedia.org/#/en.wikipedia.org',\n",
       " 'https://foundation.wikimedia.org/wiki/Cookie_statement',\n",
       " 'https://en.wikipedia.org/wiki/Python#',\n",
       " 'https://wikimediafoundation.org/',\n",
       " 'https://www.mediawiki.org/',\n",
       " 'https://en.wikipedia.org/wiki/Python?action=edit']"
      ]
     },
     "execution_count": 37,
     "metadata": {},
     "output_type": "execute_result"
    }
   ],
   "source": [
    "[a.get_attribute('href') for a in driver.find_elements_by_tag_name('a')]"
   ]
  },
  {
   "cell_type": "markdown",
   "metadata": {},
   "source": [
    "#### Number of Titles that have changed in the United States Code since its last release point "
   ]
  },
  {
   "cell_type": "code",
   "execution_count": 38,
   "metadata": {},
   "outputs": [],
   "source": [
    "# This is the url you will scrape in this exercise\n",
    "url = 'http://uscode.house.gov/download/download.shtml'"
   ]
  },
  {
   "cell_type": "code",
   "execution_count": 39,
   "metadata": {},
   "outputs": [],
   "source": [
    "#your code\n",
    "driver=webdriver.Chrome(PATH)\n",
    "driver.get(url)"
   ]
  },
  {
   "cell_type": "code",
   "execution_count": 43,
   "metadata": {},
   "outputs": [
    {
     "data": {
      "text/plain": [
       "['Title 1 - General Provisions ٭',\n",
       " 'Title 2 - The Congress',\n",
       " 'Title 3 - The President ٭',\n",
       " 'Title 4 - Flag and Seal, Seat of Government, and the States ٭',\n",
       " 'Title 5 - Government Organization and Employees ٭',\n",
       " 'Title 6 - Domestic Security',\n",
       " 'Title 7 - Agriculture',\n",
       " 'Title 8 - Aliens and Nationality',\n",
       " 'Title 9 - Arbitration ٭',\n",
       " 'Title 11 - Bankruptcy ٭',\n",
       " 'Title 12 - Banks and Banking',\n",
       " 'Title 13 - Census ٭',\n",
       " 'Title 14 - Coast Guard ٭',\n",
       " 'Title 15 - Commerce and Trade',\n",
       " 'Title 16 - Conservation',\n",
       " 'Title 17 - Copyrights ٭',\n",
       " 'Title 18 - Crimes and Criminal Procedure ٭',\n",
       " 'Title 19 - Customs Duties',\n",
       " 'Title 20 - Education',\n",
       " 'Title 21 - Food and Drugs',\n",
       " 'Title 22 - Foreign Relations and Intercourse',\n",
       " 'Title 23 - Highways ٭',\n",
       " 'Title 24 - Hospitals and Asylums',\n",
       " 'Title 25 - Indians',\n",
       " 'Title 26 - Internal Revenue Code',\n",
       " 'Title 27 - Intoxicating Liquors',\n",
       " 'Title 28 - Judiciary and Judicial Procedure ٭',\n",
       " 'Title 29 - Labor',\n",
       " 'Title 30 - Mineral Lands and Mining',\n",
       " 'Title 31 - Money and Finance ٭',\n",
       " 'Title 32 - National Guard ٭',\n",
       " 'Title 33 - Navigation and Navigable Waters',\n",
       " 'Title 34 - Crime Control and Law Enforcement',\n",
       " 'Title 35 - Patents ٭',\n",
       " 'Title 36 - Patriotic and National Observances, Ceremonies, and Organizations ٭',\n",
       " 'Title 37 - Pay and Allowances of the Uniformed Services ٭',\n",
       " \"Title 38 - Veterans' Benefits ٭\",\n",
       " 'Title 39 - Postal Service ٭',\n",
       " 'Title 40 - Public Buildings, Property, and Works ٭',\n",
       " 'Title 41 - Public Contracts ٭',\n",
       " 'Title 42 - The Public Health and Welfare',\n",
       " 'Title 43 - Public Lands',\n",
       " 'Title 44 - Public Printing and Documents ٭',\n",
       " 'Title 45 - Railroads',\n",
       " 'Title 46 - Shipping ٭',\n",
       " 'Title 47 - Telecommunications',\n",
       " 'Title 48 - Territories and Insular Possessions',\n",
       " 'Title 49 - Transportation ٭',\n",
       " 'Title 50 - War and National Defense',\n",
       " 'Title 51 - National and Commercial Space Programs ٭',\n",
       " 'Title 52 - Voting and Elections',\n",
       " 'Title 53 [Reserved]',\n",
       " 'Title 54 - National Park Service and Related Programs ٭']"
      ]
     },
     "execution_count": 43,
     "metadata": {},
     "output_type": "execute_result"
    }
   ],
   "source": [
    "ans=[a.text for a in driver.find_elements_by_class_name('usctitle')]\n",
    "\n",
    "ans[2:]"
   ]
  },
  {
   "cell_type": "markdown",
   "metadata": {},
   "source": [
    "#### A Python list with the top ten FBI's Most Wanted names "
   ]
  },
  {
   "cell_type": "code",
   "execution_count": 44,
   "metadata": {},
   "outputs": [],
   "source": [
    "# This is the url you will scrape in this exercise\n",
    "url = 'https://www.fbi.gov/wanted/topten'"
   ]
  },
  {
   "cell_type": "code",
   "execution_count": 45,
   "metadata": {},
   "outputs": [],
   "source": [
    "#your code \n",
    "driver=webdriver.Chrome(PATH)\n",
    "driver.get(url)"
   ]
  },
  {
   "cell_type": "code",
   "execution_count": 48,
   "metadata": {},
   "outputs": [
    {
     "data": {
      "text/plain": [
       "['JOSE RODOLFO VILLARREAL-HERNANDEZ',\n",
       " 'EUGENE PALMER',\n",
       " 'RAFAEL CARO-QUINTERO',\n",
       " 'BHADRESHKUMAR CHETANBHAI PATEL',\n",
       " 'ROBERT WILLIAM FISHER',\n",
       " 'ALEJANDRO ROSALES CASTILLO',\n",
       " 'ARNOLDO JIMENEZ',\n",
       " 'JASON DEREK BROWN',\n",
       " 'ALEXIS FLORES',\n",
       " 'YASER ABDEL SAID']"
      ]
     },
     "execution_count": 48,
     "metadata": {},
     "output_type": "execute_result"
    }
   ],
   "source": [
    "wanted=[a.text for a in driver.find_elements_by_class_name('title')]\n",
    "wanted[1:]"
   ]
  },
  {
   "cell_type": "markdown",
   "metadata": {},
   "source": [
    "####  20 latest earthquakes info (date, time, latitude, longitude and region name) by the EMSC as a pandas dataframe"
   ]
  },
  {
   "cell_type": "code",
   "execution_count": 49,
   "metadata": {},
   "outputs": [],
   "source": [
    "# This is the url you will scrape in this exercise\n",
    "url = 'https://www.emsc-csem.org/Earthquake/'"
   ]
  },
  {
   "cell_type": "code",
   "execution_count": 50,
   "metadata": {},
   "outputs": [],
   "source": [
    "#your code\n",
    "driver=webdriver.Chrome(PATH)\n",
    "driver.get(url)"
   ]
  },
  {
   "cell_type": "code",
   "execution_count": 71,
   "metadata": {},
   "outputs": [],
   "source": [
    "import unidecode"
   ]
  },
  {
   "cell_type": "code",
   "execution_count": 66,
   "metadata": {},
   "outputs": [
    {
     "data": {
      "text/plain": [
       "['Date & TimeUTC',\n",
       " 'Latitudedegrees',\n",
       " 'Longitudedegrees',\n",
       " 'Depthkm',\n",
       " 'Mag',\n",
       " 'Region name']"
      ]
     },
     "execution_count": 66,
     "metadata": {},
     "output_type": "execute_result"
    }
   ],
   "source": [
    "h=[a.text for a in driver.find_elements_by_class_name('th2')]\n",
    "\n",
    "head= []\n",
    "\n",
    "for i in range(len(h)):\n",
    "    if i != 0:\n",
    "        txt = str(h[i]).replace('\\n','').replace('[+]','')\n",
    "        head.append(txt)\n",
    "\n",
    "columns=head[:-1]\n",
    "columns"
   ]
  },
  {
   "cell_type": "code",
   "execution_count": 195,
   "metadata": {},
   "outputs": [
    {
     "name": "stdout",
     "output_type": "stream",
     "text": [
      "['2021-05-12   16:40:44.022min ago4.94  N   125.42  E   174 3.2  KEPULAUAN SANGIHE, INDONESIA', '2021-05-12   16:33:03.930min ago40.79  N   2.87  W   3 1.8  SPAIN', '2021-05-12   16:26:17.137min ago29.76  N   50.72  E   10 4.7  SOUTHERN IRAN', '2021-05-12   16:06:54.056min ago21.45  S   68.85  W   112 3.3  ANTOFAGASTA, CHILE', '2021-05-12   16:04:25.059min ago27.65  N   18.08  W   31 2.7  CANARY ISLANDS, SPAIN REGION', '2021-05-12   16:03:28.61hr 00min ago38.57  N   40.88  E   2 3.5  EASTERN TURKEY', '11IV2021-05-12   15:56:57.21hr 06min ago14.14  S   75.60  W   49 5.6  NEAR COAST OF CENTRAL PERU', '2021-05-12   15:52:54.01hr 10min ago36.14  N   118.06  W   -1 2.1  CENTRAL CALIFORNIA', '2021-05-12   15:46:57.01hr 16min ago8.99  N   79.60  W   9 2.8  PANAMA', '2021-05-12   15:45:31.21hr 18min ago3.99  N   128.72  E   60 5.3  NORTH OF HALMAHERA, INDONESIA', '2021-05-12   15:40:23.21hr 23min ago36.55  N   89.59  W   7 3.3  SOUTHEASTERN MISSOURI', '2021-05-12   14:49:46.92hr 13min ago42.19  N   76.17  E   5 3.7  KYRGYZSTAN', '2021-05-12   14:45:02.02hr 18min ago22.86  S   68.75  W   106 3.0  ANTOFAGASTA, CHILE', '8IV2021-05-12   14:42:22.12hr 21min ago51.58  N   16.15  E   10 3.9  POLAND', '2021-05-12   14:36:40.42hr 26min ago46.70  N   10.44  E   7 1.6  NORTHERN ITALY', '2021-05-12   14:34:50.42hr 28min ago37.21  N   121.82  W   8 2.8  NORTHERN CALIFORNIA', '2021-05-12   14:16:15.02hr 47min ago13.32  N   90.39  W   20 3.7  OFFSHORE GUATEMALA', 'III2021-05-12   14:16:06.62hr 47min ago37.87  N   29.11  E   7 2.4  WESTERN TURKEY', '2IV2021-05-12   14:05:16.82hr 58min ago17.31  S   66.45  E   10 6.7  MAURITIUS - REUNION REGION', '2021-05-12   13:58:52.73hr 04min ago47.20  N   6.94  E   7 2.0  SWITZERLAND', '2021-05-12   13:48:45.93hr 14min ago19.19  N   155.44  W   35 2.0  ISLAND OF HAWAII, HAWAII', '8III2021-05-12   13:48:06.53hr 15min ago37.81  N   26.97  E   10 3.2  DODECANESE ISLANDS, GREECE', '2021-05-12   13:47:15.13hr 16min ago19.17  N   155.49  W   32 2.1  ISLAND OF HAWAII, HAWAII', '2021-05-12   13:28:20.13hr 35min ago19.19  N   155.44  W   36 2.1  ISLAND OF HAWAII, HAWAII', '2021-05-12   13:15:42.03hr 47min ago21.14  S   68.24  W   147 3.3  POTOSI, BOLIVIA', '2021-05-12   13:11:49.13hr 51min ago39.18  N   6.89  W   11 1.8  SPAIN', '2021-05-12   13:08:13.13hr 55min ago42.97  N   13.20  E   9 2.2  CENTRAL ITALY', '2021-05-12   12:03:01.05hr 00min ago36.53  N   9.77  W   15 2.8  WEST OF GIBRALTAR', '2021-05-12   11:57:47.05hr 05min ago13.72  N   86.63  W   10 3.7  NICARAGUA', '2021-05-12   11:51:53.65hr 11min ago38.60  N   6.72  W   10 2.5  SPAIN', '2021-05-12   11:48:50.85hr 14min ago37.45  S   179.97  E   15 3.6  OFF E. COAST OF N. ISLAND, N.Z.', '2021-05-12   11:44:03.05hr 19min ago19.07  N   69.44  W   44 2.6  DOMINICAN REPUBLIC', '2021-05-12   11:41:51.25hr 21min ago19.20  N   155.45  W   36 2.0  ISLAND OF HAWAII, HAWAII', '2021-05-12   11:41:39.55hr 22min ago36.71  N   121.37  W   5 2.1  CENTRAL CALIFORNIA', '2021-05-12   11:18:58.65hr 44min ago19.20  N   155.45  W   34 2.1  ISLAND OF HAWAII, HAWAII', '2IV2021-05-12   11:15:12.15hr 48min ago15.88  N   121.12  E   82 4.6  LUZON, PHILIPPINES', '2021-05-12   11:12:40.05hr 51min ago24.48  S   64.96  W   10 3.1  JUJUY, ARGENTINA', '2021-05-12   11:10:52.85hr 52min ago18.01  N   66.81  W   14 2.7  PUERTO RICO', '2021-05-12   11:02:07.76hr 01min ago36.86  N   49.25  E   2 3.5  NORTHERN IRAN', '2021-05-12   10:58:30.06hr 05min ago9.22  N   85.42  W   28 3.0  OFF COAST OF COSTA RICA', '2021-05-12   10:54:43.26hr 08min ago38.26  N   38.69  E   7 2.3  EASTERN TURKEY', '2021-05-12   10:19:13.36hr 44min ago38.30  N   38.70  E   9 2.5  EASTERN TURKEY', '2021-05-12   10:14:25.46hr 49min ago35.51  N   118.39  W   9 2.6  CENTRAL CALIFORNIA', '2021-05-12   09:55:41.47hr 07min ago40.32  N   27.63  E   14 2.6  WESTERN TURKEY', '2021-05-12   09:53:56.47hr 09min ago36.45  N   27.17  E   10 2.6  DODECANESE IS.-TURKEY BORDER REG', '2021-05-12   09:52:45.07hr 10min ago19.15  N   104.86  W   6 3.6  OFFSHORE JALISCO, MEXICO', '2021-05-12   09:45:30.07hr 18min ago8.89  N   84.07  W   3 3.1  OFF COAST OF COSTA RICA', 'F2021-05-12   09:40:53.57hr 22min ago53.74  N   160.56  E   70 4.1  NEAR EAST COAST OF KAMCHATKA', '2021-05-12   09:37:42.07hr 25min ago16.34  N   97.93  W   6 3.1  OAXACA, MEXICO', '2021-05-12   09:35:30.07hr 28min ago8.81  N   84.12  W   3 3.5  OFF COAST OF COSTA RICA']\n"
     ]
    }
   ],
   "source": [
    "table_rows=[a.text.replace('\\n','') for a in driver.find_elements_by_tag_name('tr')]  #tr -> tag name find elements by tag name tr\n",
    "table_rows\n",
    "\n",
    "records = []\n",
    "\n",
    "for e in table_rows:\n",
    "    if 'ago' in e:\n",
    "        records.append(e)\n",
    "\n",
    "print(records)       "
   ]
  },
  {
   "cell_type": "code",
   "execution_count": 215,
   "metadata": {},
   "outputs": [
    {
     "data": {
      "text/plain": [
       "'84.12  W'"
      ]
     },
     "execution_count": 215,
     "metadata": {},
     "output_type": "execute_result"
    }
   ],
   "source": [
    "aux = []\n",
    "for r in records:\n",
    "    txt= r.split('   ')\n",
    "    \n",
    "    aux.append(txt)\n",
    "\n",
    "aux[49][2]"
   ]
  },
  {
   "cell_type": "code",
   "execution_count": 208,
   "metadata": {},
   "outputs": [
    {
     "data": {
      "text/plain": [
       "['174 3.2  KEPULAUAN SANGIHE, INDONESIA',\n",
       " '3 1.8  SPAIN',\n",
       " '10 4.7  SOUTHERN IRAN',\n",
       " '112 3.3  ANTOFAGASTA, CHILE',\n",
       " '31 2.7  CANARY ISLANDS, SPAIN REGION',\n",
       " '2 3.5  EASTERN TURKEY',\n",
       " '49 5.6  NEAR COAST OF CENTRAL PERU',\n",
       " '-1 2.1  CENTRAL CALIFORNIA',\n",
       " '9 2.8  PANAMA',\n",
       " '60 5.3  NORTH OF HALMAHERA, INDONESIA',\n",
       " '7 3.3  SOUTHEASTERN MISSOURI',\n",
       " '5 3.7  KYRGYZSTAN',\n",
       " '106 3.0  ANTOFAGASTA, CHILE',\n",
       " '10 3.9  POLAND',\n",
       " '7 1.6  NORTHERN ITALY',\n",
       " '8 2.8  NORTHERN CALIFORNIA',\n",
       " '20 3.7  OFFSHORE GUATEMALA',\n",
       " '7 2.4  WESTERN TURKEY',\n",
       " '10 6.7  MAURITIUS - REUNION REGION',\n",
       " '7 2.0  SWITZERLAND',\n",
       " '35 2.0  ISLAND OF HAWAII, HAWAII',\n",
       " '10 3.2  DODECANESE ISLANDS, GREECE',\n",
       " '32 2.1  ISLAND OF HAWAII, HAWAII',\n",
       " '36 2.1  ISLAND OF HAWAII, HAWAII',\n",
       " '147 3.3  POTOSI, BOLIVIA',\n",
       " '11 1.8  SPAIN',\n",
       " '9 2.2  CENTRAL ITALY',\n",
       " '15 2.8  WEST OF GIBRALTAR',\n",
       " '10 3.7  NICARAGUA',\n",
       " '10 2.5  SPAIN',\n",
       " '15 3.6  OFF E. COAST OF N. ISLAND, N.Z.',\n",
       " '44 2.6  DOMINICAN REPUBLIC',\n",
       " '36 2.0  ISLAND OF HAWAII, HAWAII',\n",
       " '5 2.1  CENTRAL CALIFORNIA',\n",
       " '34 2.1  ISLAND OF HAWAII, HAWAII',\n",
       " '82 4.6  LUZON, PHILIPPINES',\n",
       " '10 3.1  JUJUY, ARGENTINA',\n",
       " '14 2.7  PUERTO RICO',\n",
       " '2 3.5  NORTHERN IRAN',\n",
       " '28 3.0  OFF COAST OF COSTA RICA',\n",
       " '7 2.3  EASTERN TURKEY',\n",
       " '9 2.5  EASTERN TURKEY',\n",
       " '9 2.6  CENTRAL CALIFORNIA',\n",
       " '14 2.6  WESTERN TURKEY',\n",
       " '10 2.6  DODECANESE IS.-TURKEY BORDER REG',\n",
       " '6 3.6  OFFSHORE JALISCO, MEXICO',\n",
       " '3 3.1  OFF COAST OF COSTA RICA',\n",
       " '70 4.1  NEAR EAST COAST OF KAMCHATKA',\n",
       " '6 3.1  OAXACA, MEXICO',\n",
       " '3 3.5  OFF COAST OF COSTA RICA']"
      ]
     },
     "execution_count": 208,
     "metadata": {},
     "output_type": "execute_result"
    }
   ],
   "source": [
    "dates = []\n",
    "latitudes = []\n",
    "longitudes = []\n",
    "blend=[]\n",
    "\n",
    "for i, d in enumerate(aux):\n",
    "    dates.append(aux[i][0])\n",
    "    latitudes.append(aux[i][1])\n",
    "    longitudes.append(aux[i][2])\n",
    "    blend.append(aux[i][3])\n",
    "\n",
    "blend"
   ]
  },
  {
   "cell_type": "code",
   "execution_count": 232,
   "metadata": {},
   "outputs": [
    {
     "data": {
      "text/plain": [
       "['KEPULAUAN SANGIHE, INDONESIA',\n",
       " 'SPAIN',\n",
       " 'SOUTHERN IRAN',\n",
       " 'ANTOFAGASTA, CHILE',\n",
       " 'CANARY ISLANDS, SPAIN REGION',\n",
       " 'EASTERN TURKEY',\n",
       " 'NEAR COAST OF CENTRAL PERU',\n",
       " 'CENTRAL CALIFORNIA',\n",
       " 'PANAMA',\n",
       " 'NORTH OF HALMAHERA, INDONESIA',\n",
       " 'SOUTHEASTERN MISSOURI',\n",
       " 'KYRGYZSTAN',\n",
       " 'ANTOFAGASTA, CHILE',\n",
       " 'POLAND',\n",
       " 'NORTHERN ITALY',\n",
       " 'NORTHERN CALIFORNIA',\n",
       " 'OFFSHORE GUATEMALA',\n",
       " 'WESTERN TURKEY',\n",
       " 'MAURITIUS - REUNION REGION',\n",
       " 'SWITZERLAND',\n",
       " 'ISLAND OF HAWAII, HAWAII',\n",
       " 'DODECANESE ISLANDS, GREECE',\n",
       " 'ISLAND OF HAWAII, HAWAII',\n",
       " 'ISLAND OF HAWAII, HAWAII',\n",
       " 'POTOSI, BOLIVIA',\n",
       " 'SPAIN',\n",
       " 'CENTRAL ITALY',\n",
       " 'WEST OF GIBRALTAR',\n",
       " 'NICARAGUA',\n",
       " 'SPAIN',\n",
       " 'OFF E. COAST OF N. ISLAND, N.Z.',\n",
       " 'DOMINICAN REPUBLIC',\n",
       " 'ISLAND OF HAWAII, HAWAII',\n",
       " 'CENTRAL CALIFORNIA',\n",
       " 'ISLAND OF HAWAII, HAWAII',\n",
       " 'LUZON, PHILIPPINES',\n",
       " 'JUJUY, ARGENTINA',\n",
       " 'PUERTO RICO',\n",
       " 'NORTHERN IRAN',\n",
       " 'OFF COAST OF COSTA RICA',\n",
       " 'EASTERN TURKEY',\n",
       " 'EASTERN TURKEY',\n",
       " 'CENTRAL CALIFORNIA',\n",
       " 'WESTERN TURKEY',\n",
       " 'DODECANESE IS.-TURKEY BORDER REG',\n",
       " 'OFFSHORE JALISCO, MEXICO',\n",
       " 'OFF COAST OF COSTA RICA',\n",
       " 'NEAR EAST COAST OF KAMCHATKA',\n",
       " 'OAXACA, MEXICO',\n",
       " 'OFF COAST OF COSTA RICA']"
      ]
     },
     "execution_count": 232,
     "metadata": {},
     "output_type": "execute_result"
    }
   ],
   "source": [
    "l=[]\n",
    "for k in blend:\n",
    "    a= k.split('  ')\n",
    "    l.append(a)\n",
    "\n",
    "country=[]\n",
    "blend2=[]\n",
    "for j, u in enumerate(l):\n",
    "    country.append(l[j][1])\n",
    "    blend2.append(l[j][0])\n",
    "\n",
    "country"
   ]
  },
  {
   "cell_type": "code",
   "execution_count": 255,
   "metadata": {},
   "outputs": [],
   "source": [
    "ls=[]\n",
    "for g in blend2:\n",
    "    ls.append(g.split())\n",
    "\n",
    "depth = []\n",
    "mag = []\n",
    "\n",
    "for t, u in enumerate(ls):\n",
    "    depth.append(ls[t][0])\n",
    "    mag.append(ls[t][1])"
   ]
  },
  {
   "cell_type": "markdown",
   "metadata": {},
   "source": [
    "dates\n",
    "latitudes\n",
    "longitudes\n",
    "country\n",
    "depth\n",
    "mag"
   ]
  },
  {
   "cell_type": "code",
   "execution_count": 301,
   "metadata": {},
   "outputs": [
    {
     "name": "stdout",
     "output_type": "stream",
     "text": [
      "['4.94 N', '40.79 N', '29.76 N', '21.45 S', '27.65 N', '00 38.57 N', '06 14.14 S', '10 36.14 N', '16 8.99 N', '18 3.99 N', '23 36.55 N', '13 42.19 N', '18 22.86 S', '21 51.58 N', '26 46.70 N', '28 37.21 N', '47 13.32 N', '47 37.87 N', '58 17.31 S', '04 47.20 N', '14 19.19 N', '15 37.81 N', '16 19.17 N', '35 19.19 N', '47 21.14 S', '51 39.18 N', '55 42.97 N', '00 36.53 N', '05 13.72 N', '11 38.60 N', '14 37.45 S', '19 19.07 N', '21 19.20 N', '22 36.71 N', '44 19.20 N', '48 15.88 N', '51 24.48 S', '52 18.01 N', '01 36.86 N', '05 9.22 N', '08 38.26 N', '44 38.30 N', '49 35.51 N', '07 40.32 N', '09 36.45 N', '10 19.15 N', '18 8.89 N', '22 53.74 N', '25 16.34 N', '28 8.81 N']\n"
     ]
    }
   ],
   "source": [
    "pqp=[]\n",
    "for s in latitudes:\n",
    "    x = s.replace('ago','').replace('min','').replace('hr','').replace(':','')\n",
    "    pqp.append(x.split())\n",
    "pqp[0][1:]\n",
    "\n",
    "cena=[]\n",
    "for y,u in enumerate(pqp):\n",
    "    r = pqp[y][1:]\n",
    "    txr = ' '.join(r)\n",
    "    cena.append(txr)\n",
    "print(cena)"
   ]
  },
  {
   "cell_type": "code",
   "execution_count": 302,
   "metadata": {},
   "outputs": [],
   "source": [
    "df = pd.DataFrame({'Dates': dates, 'Latitude degrees': cena, 'Longitude degrees': longitudes, 'Depth': depth, 'Mag': mag, })"
   ]
  },
  {
   "cell_type": "code",
   "execution_count": 303,
   "metadata": {},
   "outputs": [
    {
     "data": {
      "text/html": [
       "<div>\n",
       "<style scoped>\n",
       "    .dataframe tbody tr th:only-of-type {\n",
       "        vertical-align: middle;\n",
       "    }\n",
       "\n",
       "    .dataframe tbody tr th {\n",
       "        vertical-align: top;\n",
       "    }\n",
       "\n",
       "    .dataframe thead th {\n",
       "        text-align: right;\n",
       "    }\n",
       "</style>\n",
       "<table border=\"1\" class=\"dataframe\">\n",
       "  <thead>\n",
       "    <tr style=\"text-align: right;\">\n",
       "      <th></th>\n",
       "      <th>Dates</th>\n",
       "      <th>Latitude degrees</th>\n",
       "      <th>Longitude degrees</th>\n",
       "      <th>Depth</th>\n",
       "      <th>Mag</th>\n",
       "    </tr>\n",
       "  </thead>\n",
       "  <tbody>\n",
       "    <tr>\n",
       "      <th>0</th>\n",
       "      <td>2021-05-12</td>\n",
       "      <td>4.94 N</td>\n",
       "      <td>125.42  E</td>\n",
       "      <td>174</td>\n",
       "      <td>3.2</td>\n",
       "    </tr>\n",
       "    <tr>\n",
       "      <th>1</th>\n",
       "      <td>2021-05-12</td>\n",
       "      <td>40.79 N</td>\n",
       "      <td>2.87  W</td>\n",
       "      <td>3</td>\n",
       "      <td>1.8</td>\n",
       "    </tr>\n",
       "    <tr>\n",
       "      <th>2</th>\n",
       "      <td>2021-05-12</td>\n",
       "      <td>29.76 N</td>\n",
       "      <td>50.72  E</td>\n",
       "      <td>10</td>\n",
       "      <td>4.7</td>\n",
       "    </tr>\n",
       "    <tr>\n",
       "      <th>3</th>\n",
       "      <td>2021-05-12</td>\n",
       "      <td>21.45 S</td>\n",
       "      <td>68.85  W</td>\n",
       "      <td>112</td>\n",
       "      <td>3.3</td>\n",
       "    </tr>\n",
       "    <tr>\n",
       "      <th>4</th>\n",
       "      <td>2021-05-12</td>\n",
       "      <td>27.65 N</td>\n",
       "      <td>18.08  W</td>\n",
       "      <td>31</td>\n",
       "      <td>2.7</td>\n",
       "    </tr>\n",
       "    <tr>\n",
       "      <th>5</th>\n",
       "      <td>2021-05-12</td>\n",
       "      <td>00 38.57 N</td>\n",
       "      <td>40.88  E</td>\n",
       "      <td>2</td>\n",
       "      <td>3.5</td>\n",
       "    </tr>\n",
       "    <tr>\n",
       "      <th>6</th>\n",
       "      <td>11IV2021-05-12</td>\n",
       "      <td>06 14.14 S</td>\n",
       "      <td>75.60  W</td>\n",
       "      <td>49</td>\n",
       "      <td>5.6</td>\n",
       "    </tr>\n",
       "    <tr>\n",
       "      <th>7</th>\n",
       "      <td>2021-05-12</td>\n",
       "      <td>10 36.14 N</td>\n",
       "      <td>118.06  W</td>\n",
       "      <td>-1</td>\n",
       "      <td>2.1</td>\n",
       "    </tr>\n",
       "    <tr>\n",
       "      <th>8</th>\n",
       "      <td>2021-05-12</td>\n",
       "      <td>16 8.99 N</td>\n",
       "      <td>79.60  W</td>\n",
       "      <td>9</td>\n",
       "      <td>2.8</td>\n",
       "    </tr>\n",
       "    <tr>\n",
       "      <th>9</th>\n",
       "      <td>2021-05-12</td>\n",
       "      <td>18 3.99 N</td>\n",
       "      <td>128.72  E</td>\n",
       "      <td>60</td>\n",
       "      <td>5.3</td>\n",
       "    </tr>\n",
       "    <tr>\n",
       "      <th>10</th>\n",
       "      <td>2021-05-12</td>\n",
       "      <td>23 36.55 N</td>\n",
       "      <td>89.59  W</td>\n",
       "      <td>7</td>\n",
       "      <td>3.3</td>\n",
       "    </tr>\n",
       "    <tr>\n",
       "      <th>11</th>\n",
       "      <td>2021-05-12</td>\n",
       "      <td>13 42.19 N</td>\n",
       "      <td>76.17  E</td>\n",
       "      <td>5</td>\n",
       "      <td>3.7</td>\n",
       "    </tr>\n",
       "    <tr>\n",
       "      <th>12</th>\n",
       "      <td>2021-05-12</td>\n",
       "      <td>18 22.86 S</td>\n",
       "      <td>68.75  W</td>\n",
       "      <td>106</td>\n",
       "      <td>3.0</td>\n",
       "    </tr>\n",
       "    <tr>\n",
       "      <th>13</th>\n",
       "      <td>8IV2021-05-12</td>\n",
       "      <td>21 51.58 N</td>\n",
       "      <td>16.15  E</td>\n",
       "      <td>10</td>\n",
       "      <td>3.9</td>\n",
       "    </tr>\n",
       "    <tr>\n",
       "      <th>14</th>\n",
       "      <td>2021-05-12</td>\n",
       "      <td>26 46.70 N</td>\n",
       "      <td>10.44  E</td>\n",
       "      <td>7</td>\n",
       "      <td>1.6</td>\n",
       "    </tr>\n",
       "    <tr>\n",
       "      <th>15</th>\n",
       "      <td>2021-05-12</td>\n",
       "      <td>28 37.21 N</td>\n",
       "      <td>121.82  W</td>\n",
       "      <td>8</td>\n",
       "      <td>2.8</td>\n",
       "    </tr>\n",
       "    <tr>\n",
       "      <th>16</th>\n",
       "      <td>2021-05-12</td>\n",
       "      <td>47 13.32 N</td>\n",
       "      <td>90.39  W</td>\n",
       "      <td>20</td>\n",
       "      <td>3.7</td>\n",
       "    </tr>\n",
       "    <tr>\n",
       "      <th>17</th>\n",
       "      <td>III2021-05-12</td>\n",
       "      <td>47 37.87 N</td>\n",
       "      <td>29.11  E</td>\n",
       "      <td>7</td>\n",
       "      <td>2.4</td>\n",
       "    </tr>\n",
       "    <tr>\n",
       "      <th>18</th>\n",
       "      <td>2IV2021-05-12</td>\n",
       "      <td>58 17.31 S</td>\n",
       "      <td>66.45  E</td>\n",
       "      <td>10</td>\n",
       "      <td>6.7</td>\n",
       "    </tr>\n",
       "    <tr>\n",
       "      <th>19</th>\n",
       "      <td>2021-05-12</td>\n",
       "      <td>04 47.20 N</td>\n",
       "      <td>6.94  E</td>\n",
       "      <td>7</td>\n",
       "      <td>2.0</td>\n",
       "    </tr>\n",
       "    <tr>\n",
       "      <th>20</th>\n",
       "      <td>2021-05-12</td>\n",
       "      <td>14 19.19 N</td>\n",
       "      <td>155.44  W</td>\n",
       "      <td>35</td>\n",
       "      <td>2.0</td>\n",
       "    </tr>\n",
       "    <tr>\n",
       "      <th>21</th>\n",
       "      <td>8III2021-05-12</td>\n",
       "      <td>15 37.81 N</td>\n",
       "      <td>26.97  E</td>\n",
       "      <td>10</td>\n",
       "      <td>3.2</td>\n",
       "    </tr>\n",
       "    <tr>\n",
       "      <th>22</th>\n",
       "      <td>2021-05-12</td>\n",
       "      <td>16 19.17 N</td>\n",
       "      <td>155.49  W</td>\n",
       "      <td>32</td>\n",
       "      <td>2.1</td>\n",
       "    </tr>\n",
       "    <tr>\n",
       "      <th>23</th>\n",
       "      <td>2021-05-12</td>\n",
       "      <td>35 19.19 N</td>\n",
       "      <td>155.44  W</td>\n",
       "      <td>36</td>\n",
       "      <td>2.1</td>\n",
       "    </tr>\n",
       "    <tr>\n",
       "      <th>24</th>\n",
       "      <td>2021-05-12</td>\n",
       "      <td>47 21.14 S</td>\n",
       "      <td>68.24  W</td>\n",
       "      <td>147</td>\n",
       "      <td>3.3</td>\n",
       "    </tr>\n",
       "    <tr>\n",
       "      <th>25</th>\n",
       "      <td>2021-05-12</td>\n",
       "      <td>51 39.18 N</td>\n",
       "      <td>6.89  W</td>\n",
       "      <td>11</td>\n",
       "      <td>1.8</td>\n",
       "    </tr>\n",
       "    <tr>\n",
       "      <th>26</th>\n",
       "      <td>2021-05-12</td>\n",
       "      <td>55 42.97 N</td>\n",
       "      <td>13.20  E</td>\n",
       "      <td>9</td>\n",
       "      <td>2.2</td>\n",
       "    </tr>\n",
       "    <tr>\n",
       "      <th>27</th>\n",
       "      <td>2021-05-12</td>\n",
       "      <td>00 36.53 N</td>\n",
       "      <td>9.77  W</td>\n",
       "      <td>15</td>\n",
       "      <td>2.8</td>\n",
       "    </tr>\n",
       "    <tr>\n",
       "      <th>28</th>\n",
       "      <td>2021-05-12</td>\n",
       "      <td>05 13.72 N</td>\n",
       "      <td>86.63  W</td>\n",
       "      <td>10</td>\n",
       "      <td>3.7</td>\n",
       "    </tr>\n",
       "    <tr>\n",
       "      <th>29</th>\n",
       "      <td>2021-05-12</td>\n",
       "      <td>11 38.60 N</td>\n",
       "      <td>6.72  W</td>\n",
       "      <td>10</td>\n",
       "      <td>2.5</td>\n",
       "    </tr>\n",
       "    <tr>\n",
       "      <th>30</th>\n",
       "      <td>2021-05-12</td>\n",
       "      <td>14 37.45 S</td>\n",
       "      <td>179.97  E</td>\n",
       "      <td>15</td>\n",
       "      <td>3.6</td>\n",
       "    </tr>\n",
       "    <tr>\n",
       "      <th>31</th>\n",
       "      <td>2021-05-12</td>\n",
       "      <td>19 19.07 N</td>\n",
       "      <td>69.44  W</td>\n",
       "      <td>44</td>\n",
       "      <td>2.6</td>\n",
       "    </tr>\n",
       "    <tr>\n",
       "      <th>32</th>\n",
       "      <td>2021-05-12</td>\n",
       "      <td>21 19.20 N</td>\n",
       "      <td>155.45  W</td>\n",
       "      <td>36</td>\n",
       "      <td>2.0</td>\n",
       "    </tr>\n",
       "    <tr>\n",
       "      <th>33</th>\n",
       "      <td>2021-05-12</td>\n",
       "      <td>22 36.71 N</td>\n",
       "      <td>121.37  W</td>\n",
       "      <td>5</td>\n",
       "      <td>2.1</td>\n",
       "    </tr>\n",
       "    <tr>\n",
       "      <th>34</th>\n",
       "      <td>2021-05-12</td>\n",
       "      <td>44 19.20 N</td>\n",
       "      <td>155.45  W</td>\n",
       "      <td>34</td>\n",
       "      <td>2.1</td>\n",
       "    </tr>\n",
       "    <tr>\n",
       "      <th>35</th>\n",
       "      <td>2IV2021-05-12</td>\n",
       "      <td>48 15.88 N</td>\n",
       "      <td>121.12  E</td>\n",
       "      <td>82</td>\n",
       "      <td>4.6</td>\n",
       "    </tr>\n",
       "    <tr>\n",
       "      <th>36</th>\n",
       "      <td>2021-05-12</td>\n",
       "      <td>51 24.48 S</td>\n",
       "      <td>64.96  W</td>\n",
       "      <td>10</td>\n",
       "      <td>3.1</td>\n",
       "    </tr>\n",
       "    <tr>\n",
       "      <th>37</th>\n",
       "      <td>2021-05-12</td>\n",
       "      <td>52 18.01 N</td>\n",
       "      <td>66.81  W</td>\n",
       "      <td>14</td>\n",
       "      <td>2.7</td>\n",
       "    </tr>\n",
       "    <tr>\n",
       "      <th>38</th>\n",
       "      <td>2021-05-12</td>\n",
       "      <td>01 36.86 N</td>\n",
       "      <td>49.25  E</td>\n",
       "      <td>2</td>\n",
       "      <td>3.5</td>\n",
       "    </tr>\n",
       "    <tr>\n",
       "      <th>39</th>\n",
       "      <td>2021-05-12</td>\n",
       "      <td>05 9.22 N</td>\n",
       "      <td>85.42  W</td>\n",
       "      <td>28</td>\n",
       "      <td>3.0</td>\n",
       "    </tr>\n",
       "    <tr>\n",
       "      <th>40</th>\n",
       "      <td>2021-05-12</td>\n",
       "      <td>08 38.26 N</td>\n",
       "      <td>38.69  E</td>\n",
       "      <td>7</td>\n",
       "      <td>2.3</td>\n",
       "    </tr>\n",
       "    <tr>\n",
       "      <th>41</th>\n",
       "      <td>2021-05-12</td>\n",
       "      <td>44 38.30 N</td>\n",
       "      <td>38.70  E</td>\n",
       "      <td>9</td>\n",
       "      <td>2.5</td>\n",
       "    </tr>\n",
       "    <tr>\n",
       "      <th>42</th>\n",
       "      <td>2021-05-12</td>\n",
       "      <td>49 35.51 N</td>\n",
       "      <td>118.39  W</td>\n",
       "      <td>9</td>\n",
       "      <td>2.6</td>\n",
       "    </tr>\n",
       "    <tr>\n",
       "      <th>43</th>\n",
       "      <td>2021-05-12</td>\n",
       "      <td>07 40.32 N</td>\n",
       "      <td>27.63  E</td>\n",
       "      <td>14</td>\n",
       "      <td>2.6</td>\n",
       "    </tr>\n",
       "    <tr>\n",
       "      <th>44</th>\n",
       "      <td>2021-05-12</td>\n",
       "      <td>09 36.45 N</td>\n",
       "      <td>27.17  E</td>\n",
       "      <td>10</td>\n",
       "      <td>2.6</td>\n",
       "    </tr>\n",
       "    <tr>\n",
       "      <th>45</th>\n",
       "      <td>2021-05-12</td>\n",
       "      <td>10 19.15 N</td>\n",
       "      <td>104.86  W</td>\n",
       "      <td>6</td>\n",
       "      <td>3.6</td>\n",
       "    </tr>\n",
       "    <tr>\n",
       "      <th>46</th>\n",
       "      <td>2021-05-12</td>\n",
       "      <td>18 8.89 N</td>\n",
       "      <td>84.07  W</td>\n",
       "      <td>3</td>\n",
       "      <td>3.1</td>\n",
       "    </tr>\n",
       "    <tr>\n",
       "      <th>47</th>\n",
       "      <td>F2021-05-12</td>\n",
       "      <td>22 53.74 N</td>\n",
       "      <td>160.56  E</td>\n",
       "      <td>70</td>\n",
       "      <td>4.1</td>\n",
       "    </tr>\n",
       "    <tr>\n",
       "      <th>48</th>\n",
       "      <td>2021-05-12</td>\n",
       "      <td>25 16.34 N</td>\n",
       "      <td>97.93  W</td>\n",
       "      <td>6</td>\n",
       "      <td>3.1</td>\n",
       "    </tr>\n",
       "    <tr>\n",
       "      <th>49</th>\n",
       "      <td>2021-05-12</td>\n",
       "      <td>28 8.81 N</td>\n",
       "      <td>84.12  W</td>\n",
       "      <td>3</td>\n",
       "      <td>3.5</td>\n",
       "    </tr>\n",
       "  </tbody>\n",
       "</table>\n",
       "</div>"
      ],
      "text/plain": [
       "             Dates Latitude degrees Longitude degrees Depth  Mag\n",
       "0       2021-05-12           4.94 N         125.42  E   174  3.2\n",
       "1       2021-05-12          40.79 N           2.87  W     3  1.8\n",
       "2       2021-05-12          29.76 N          50.72  E    10  4.7\n",
       "3       2021-05-12          21.45 S          68.85  W   112  3.3\n",
       "4       2021-05-12          27.65 N          18.08  W    31  2.7\n",
       "5       2021-05-12       00 38.57 N          40.88  E     2  3.5\n",
       "6   11IV2021-05-12       06 14.14 S          75.60  W    49  5.6\n",
       "7       2021-05-12       10 36.14 N         118.06  W    -1  2.1\n",
       "8       2021-05-12        16 8.99 N          79.60  W     9  2.8\n",
       "9       2021-05-12        18 3.99 N         128.72  E    60  5.3\n",
       "10      2021-05-12       23 36.55 N          89.59  W     7  3.3\n",
       "11      2021-05-12       13 42.19 N          76.17  E     5  3.7\n",
       "12      2021-05-12       18 22.86 S          68.75  W   106  3.0\n",
       "13   8IV2021-05-12       21 51.58 N          16.15  E    10  3.9\n",
       "14      2021-05-12       26 46.70 N          10.44  E     7  1.6\n",
       "15      2021-05-12       28 37.21 N         121.82  W     8  2.8\n",
       "16      2021-05-12       47 13.32 N          90.39  W    20  3.7\n",
       "17   III2021-05-12       47 37.87 N          29.11  E     7  2.4\n",
       "18   2IV2021-05-12       58 17.31 S          66.45  E    10  6.7\n",
       "19      2021-05-12       04 47.20 N           6.94  E     7  2.0\n",
       "20      2021-05-12       14 19.19 N         155.44  W    35  2.0\n",
       "21  8III2021-05-12       15 37.81 N          26.97  E    10  3.2\n",
       "22      2021-05-12       16 19.17 N         155.49  W    32  2.1\n",
       "23      2021-05-12       35 19.19 N         155.44  W    36  2.1\n",
       "24      2021-05-12       47 21.14 S          68.24  W   147  3.3\n",
       "25      2021-05-12       51 39.18 N           6.89  W    11  1.8\n",
       "26      2021-05-12       55 42.97 N          13.20  E     9  2.2\n",
       "27      2021-05-12       00 36.53 N           9.77  W    15  2.8\n",
       "28      2021-05-12       05 13.72 N          86.63  W    10  3.7\n",
       "29      2021-05-12       11 38.60 N           6.72  W    10  2.5\n",
       "30      2021-05-12       14 37.45 S         179.97  E    15  3.6\n",
       "31      2021-05-12       19 19.07 N          69.44  W    44  2.6\n",
       "32      2021-05-12       21 19.20 N         155.45  W    36  2.0\n",
       "33      2021-05-12       22 36.71 N         121.37  W     5  2.1\n",
       "34      2021-05-12       44 19.20 N         155.45  W    34  2.1\n",
       "35   2IV2021-05-12       48 15.88 N         121.12  E    82  4.6\n",
       "36      2021-05-12       51 24.48 S          64.96  W    10  3.1\n",
       "37      2021-05-12       52 18.01 N          66.81  W    14  2.7\n",
       "38      2021-05-12       01 36.86 N          49.25  E     2  3.5\n",
       "39      2021-05-12        05 9.22 N          85.42  W    28  3.0\n",
       "40      2021-05-12       08 38.26 N          38.69  E     7  2.3\n",
       "41      2021-05-12       44 38.30 N          38.70  E     9  2.5\n",
       "42      2021-05-12       49 35.51 N         118.39  W     9  2.6\n",
       "43      2021-05-12       07 40.32 N          27.63  E    14  2.6\n",
       "44      2021-05-12       09 36.45 N          27.17  E    10  2.6\n",
       "45      2021-05-12       10 19.15 N         104.86  W     6  3.6\n",
       "46      2021-05-12        18 8.89 N          84.07  W     3  3.1\n",
       "47     F2021-05-12       22 53.74 N         160.56  E    70  4.1\n",
       "48      2021-05-12       25 16.34 N          97.93  W     6  3.1\n",
       "49      2021-05-12        28 8.81 N          84.12  W     3  3.5"
      ]
     },
     "execution_count": 303,
     "metadata": {},
     "output_type": "execute_result"
    }
   ],
   "source": [
    "df"
   ]
  },
  {
   "cell_type": "markdown",
   "metadata": {},
   "source": [
    "I know I should clean the above Data Frame, but at this point I find that uncessary effort as I need to take a rest :). Resuming in another day."
   ]
  },
  {
   "cell_type": "markdown",
   "metadata": {},
   "source": [
    "#### Display the date, days, title, city, country of next 25 hackathon events as a Pandas dataframe table"
   ]
  },
  {
   "cell_type": "code",
   "execution_count": null,
   "metadata": {},
   "outputs": [],
   "source": [
    "# This is the url you will scrape in this exercise\n",
    "url ='https://hackevents.co/hackathons'"
   ]
  },
  {
   "cell_type": "code",
   "execution_count": null,
   "metadata": {},
   "outputs": [],
   "source": [
    "#your code"
   ]
  },
  {
   "cell_type": "markdown",
   "metadata": {},
   "source": [
    "#### Count number of tweets by a given Twitter account."
   ]
  },
  {
   "cell_type": "markdown",
   "metadata": {},
   "source": [
    "You will need to include a ***try/except block*** for account names not found. \n",
    "<br>***Hint:*** the program should count the number of tweets for any provided account"
   ]
  },
  {
   "cell_type": "code",
   "execution_count": null,
   "metadata": {},
   "outputs": [],
   "source": [
    "# This is the url you will scrape in this exercise \n",
    "# You will need to add the account credentials to this url\n",
    "url = 'https://twitter.com/'"
   ]
  },
  {
   "cell_type": "code",
   "execution_count": null,
   "metadata": {},
   "outputs": [],
   "source": [
    "#your code"
   ]
  },
  {
   "cell_type": "markdown",
   "metadata": {},
   "source": [
    "#### Number of followers of a given twitter account"
   ]
  },
  {
   "cell_type": "markdown",
   "metadata": {},
   "source": [
    "You will need to include a ***try/except block*** in case account/s name not found. \n",
    "<br>***Hint:*** the program should count the followers for any provided account"
   ]
  },
  {
   "cell_type": "code",
   "execution_count": null,
   "metadata": {},
   "outputs": [],
   "source": [
    "# This is the url you will scrape in this exercise \n",
    "# You will need to add the account credentials to this url\n",
    "url = 'https://twitter.com/'"
   ]
  },
  {
   "cell_type": "code",
   "execution_count": null,
   "metadata": {},
   "outputs": [],
   "source": [
    "#your code"
   ]
  },
  {
   "cell_type": "markdown",
   "metadata": {},
   "source": [
    "#### List all language names and number of related articles in the order they appear in wikipedia.org"
   ]
  },
  {
   "cell_type": "code",
   "execution_count": null,
   "metadata": {},
   "outputs": [],
   "source": [
    "# This is the url you will scrape in this exercise\n",
    "url = 'https://www.wikipedia.org/'"
   ]
  },
  {
   "cell_type": "code",
   "execution_count": null,
   "metadata": {},
   "outputs": [],
   "source": [
    "#your code"
   ]
  },
  {
   "cell_type": "markdown",
   "metadata": {},
   "source": [
    "#### A list with the different kind of datasets available in data.gov.uk "
   ]
  },
  {
   "cell_type": "code",
   "execution_count": null,
   "metadata": {},
   "outputs": [],
   "source": [
    "# This is the url you will scrape in this exercise\n",
    "url = 'https://data.gov.uk/'"
   ]
  },
  {
   "cell_type": "code",
   "execution_count": null,
   "metadata": {},
   "outputs": [],
   "source": [
    "#your code "
   ]
  },
  {
   "cell_type": "markdown",
   "metadata": {},
   "source": [
    "#### Top 10 languages by number of native speakers stored in a Pandas Dataframe"
   ]
  },
  {
   "cell_type": "code",
   "execution_count": null,
   "metadata": {},
   "outputs": [],
   "source": [
    "# This is the url you will scrape in this exercise\n",
    "url = 'https://en.wikipedia.org/wiki/List_of_languages_by_number_of_native_speakers'"
   ]
  },
  {
   "cell_type": "code",
   "execution_count": null,
   "metadata": {},
   "outputs": [],
   "source": [
    "#your code"
   ]
  },
  {
   "cell_type": "markdown",
   "metadata": {},
   "source": [
    "### BONUS QUESTIONS"
   ]
  },
  {
   "cell_type": "markdown",
   "metadata": {},
   "source": [
    "#### Scrape a certain number of tweets of a given Twitter account."
   ]
  },
  {
   "cell_type": "code",
   "execution_count": null,
   "metadata": {},
   "outputs": [],
   "source": [
    "# This is the url you will scrape in this exercise \n",
    "# You will need to add the account credentials to this url\n",
    "url = 'https://twitter.com/'"
   ]
  },
  {
   "cell_type": "code",
   "execution_count": null,
   "metadata": {},
   "outputs": [],
   "source": [
    "# your code"
   ]
  },
  {
   "cell_type": "markdown",
   "metadata": {},
   "source": [
    "#### IMDB's Top 250 data (movie name, Initial release, director name and stars) as a pandas dataframe"
   ]
  },
  {
   "cell_type": "code",
   "execution_count": null,
   "metadata": {},
   "outputs": [],
   "source": [
    "# This is the url you will scrape in this exercise \n",
    "url = 'https://www.imdb.com/chart/top'"
   ]
  },
  {
   "cell_type": "code",
   "execution_count": null,
   "metadata": {},
   "outputs": [],
   "source": [
    "# your code"
   ]
  },
  {
   "cell_type": "markdown",
   "metadata": {},
   "source": [
    "#### Movie name, year and a brief summary of the top 10 random movies (IMDB) as a pandas dataframe."
   ]
  },
  {
   "cell_type": "code",
   "execution_count": null,
   "metadata": {},
   "outputs": [],
   "source": [
    "#This is the url you will scrape in this exercise\n",
    "url = 'http://www.imdb.com/chart/top'"
   ]
  },
  {
   "cell_type": "code",
   "execution_count": null,
   "metadata": {},
   "outputs": [],
   "source": [
    "#your code"
   ]
  },
  {
   "cell_type": "markdown",
   "metadata": {},
   "source": [
    "#### Find the live weather report (temperature, wind speed, description and weather) of a given city."
   ]
  },
  {
   "cell_type": "code",
   "execution_count": null,
   "metadata": {},
   "outputs": [],
   "source": [
    "#https://openweathermap.org/current\n",
    "city = city=input('Enter the city:')\n",
    "url = 'http://api.openweathermap.org/data/2.5/weather?'+'q='+city+'&APPID=b35975e18dc93725acb092f7272cc6b8&units=metric'"
   ]
  },
  {
   "cell_type": "code",
   "execution_count": null,
   "metadata": {},
   "outputs": [],
   "source": [
    "# your code"
   ]
  },
  {
   "cell_type": "markdown",
   "metadata": {},
   "source": [
    "#### Book name,price and stock availability as a pandas dataframe."
   ]
  },
  {
   "cell_type": "code",
   "execution_count": null,
   "metadata": {},
   "outputs": [],
   "source": [
    "# This is the url you will scrape in this exercise. \n",
    "# It is a fictional bookstore created to be scraped. \n",
    "url = 'http://books.toscrape.com/'"
   ]
  },
  {
   "cell_type": "code",
   "execution_count": null,
   "metadata": {},
   "outputs": [],
   "source": [
    "#your code"
   ]
  }
 ],
 "metadata": {
  "kernelspec": {
   "display_name": "Python 3",
   "language": "python",
   "name": "python3"
  },
  "language_info": {
   "codemirror_mode": {
    "name": "ipython",
    "version": 3
   },
   "file_extension": ".py",
   "mimetype": "text/x-python",
   "name": "python",
   "nbconvert_exporter": "python",
   "pygments_lexer": "ipython3",
   "version": "3.9.2"
  }
 },
 "nbformat": 4,
 "nbformat_minor": 2
}
